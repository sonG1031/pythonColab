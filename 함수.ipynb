{
  "nbformat": 4,
  "nbformat_minor": 0,
  "metadata": {
    "colab": {
      "name": "함수.ipynb",
      "provenance": [],
      "include_colab_link": true
    },
    "kernelspec": {
      "name": "python3",
      "display_name": "Python 3"
    },
    "language_info": {
      "name": "python"
    }
  },
  "cells": [
    {
      "cell_type": "markdown",
      "metadata": {
        "id": "view-in-github",
        "colab_type": "text"
      },
      "source": [
        "<a href=\"https://colab.research.google.com/github/sonG1031/pythonOnline/blob/main/%ED%95%A8%EC%88%98.ipynb\" target=\"_parent\"><img src=\"https://colab.research.google.com/assets/colab-badge.svg\" alt=\"Open In Colab\"/></a>"
      ]
    },
    {
      "cell_type": "markdown",
      "metadata": {
        "id": "nJ8QhJrc2GHb"
      },
      "source": [
        "# 일반적인 함수"
      ]
    },
    {
      "cell_type": "code",
      "metadata": {
        "id": "JupD0HLj2MkF"
      },
      "source": [
        "def add(a, b):\n",
        "  result = a + b\n",
        "  return result # result를 반환"
      ],
      "execution_count": null,
      "outputs": []
    },
    {
      "cell_type": "code",
      "metadata": {
        "colab": {
          "base_uri": "https://localhost:8080/"
        },
        "id": "r_HFeClx2hRY",
        "outputId": "f7c74604-fd88-4ea9-98eb-2ceab19dfaaa"
      },
      "source": [
        "a = add(3, 4)\n",
        "print(a)"
      ],
      "execution_count": null,
      "outputs": [
        {
          "output_type": "stream",
          "name": "stdout",
          "text": [
            "7\n"
          ]
        }
      ]
    },
    {
      "cell_type": "markdown",
      "metadata": {
        "id": "nx51wx9B28nv"
      },
      "source": [
        "**입력값과 결과값이 있는 함수의 사용법** <br>\n",
        "> 결과값을 받을 변수 = 함수이름(입력변수 : 인수, 입력변수 : 인수)"
      ]
    },
    {
      "cell_type": "markdown",
      "metadata": {
        "id": "o6926uFa3l0v"
      },
      "source": [
        "# 입력값이 없는 함수"
      ]
    },
    {
      "cell_type": "code",
      "metadata": {
        "id": "nIIj-F8N2nOC"
      },
      "source": [
        "def say():\n",
        "  return 'Hi'"
      ],
      "execution_count": null,
      "outputs": []
    },
    {
      "cell_type": "code",
      "metadata": {
        "colab": {
          "base_uri": "https://localhost:8080/"
        },
        "id": "iTRc4xD435Qc",
        "outputId": "85a9a655-539f-47db-c75d-304fe1e51d7f"
      },
      "source": [
        "a = say()\n",
        "print(a)"
      ],
      "execution_count": null,
      "outputs": [
        {
          "output_type": "stream",
          "name": "stdout",
          "text": [
            "Hi\n"
          ]
        }
      ]
    },
    {
      "cell_type": "markdown",
      "metadata": {
        "id": "tEz5sQSd4A3A"
      },
      "source": [
        "**입력값이 없고 결과값만 있는 함수**\n",
        "> 결과값을 받을 변수 = 함수이름()"
      ]
    },
    {
      "cell_type": "markdown",
      "metadata": {
        "id": "NSH0MN1m4gSj"
      },
      "source": [
        "# 결과값이 없는 함수\n",
        "> return이 없다."
      ]
    },
    {
      "cell_type": "code",
      "metadata": {
        "id": "V9M4gvTC38Dn"
      },
      "source": [
        "def add(a, b):\n",
        "  print('%d, %d의 합은 %d입니다.' % (a, b, a+b))"
      ],
      "execution_count": null,
      "outputs": []
    },
    {
      "cell_type": "code",
      "metadata": {
        "colab": {
          "base_uri": "https://localhost:8080/"
        },
        "id": "Rpt2k7do5BBP",
        "outputId": "efefb493-43be-4204-81e0-7b01e68584dc"
      },
      "source": [
        "a = add(3, 4)"
      ],
      "execution_count": null,
      "outputs": [
        {
          "output_type": "stream",
          "name": "stdout",
          "text": [
            "3, 4의 합은 7입니다.\n"
          ]
        }
      ]
    },
    {
      "cell_type": "markdown",
      "metadata": {
        "id": "rdQ5vTXC5PaX"
      },
      "source": [
        "**결과값이 없는 함수**\n",
        "> 함수이름(입력인수1, 입력인수2)"
      ]
    },
    {
      "cell_type": "code",
      "metadata": {
        "colab": {
          "base_uri": "https://localhost:8080/"
        },
        "id": "1L9_NOh05MZe",
        "outputId": "1ad4f92e-928e-4334-dedc-6dac8ba62e8b"
      },
      "source": [
        "print(a)"
      ],
      "execution_count": null,
      "outputs": [
        {
          "output_type": "stream",
          "name": "stdout",
          "text": [
            "None\n"
          ]
        }
      ]
    },
    {
      "cell_type": "markdown",
      "metadata": {
        "id": "SoJeIRgS5zfP"
      },
      "source": [
        "# 매개변수 저장하여 호출하기\n",
        "\n"
      ]
    },
    {
      "cell_type": "code",
      "metadata": {
        "id": "XsLFaNa55m_V"
      },
      "source": [
        "def add(a, b):\n",
        "  return a + b"
      ],
      "execution_count": null,
      "outputs": []
    },
    {
      "cell_type": "code",
      "metadata": {
        "colab": {
          "base_uri": "https://localhost:8080/"
        },
        "id": "GoTdIj9F5_oW",
        "outputId": "72d27d06-3628-4c8c-9de2-66f128445e2a"
      },
      "source": [
        "result = add(a = 3, b = 7) # default 기본값\n",
        "print(result)"
      ],
      "execution_count": null,
      "outputs": [
        {
          "output_type": "stream",
          "name": "stdout",
          "text": [
            "10\n"
          ]
        }
      ]
    },
    {
      "cell_type": "code",
      "metadata": {
        "colab": {
          "base_uri": "https://localhost:8080/"
        },
        "id": "i3G0niSX6KvO",
        "outputId": "86897838-6638-499e-e99e-e34f49714152"
      },
      "source": [
        "result = add(b = 5, a = 4)\n",
        "print(result)"
      ],
      "execution_count": null,
      "outputs": [
        {
          "output_type": "stream",
          "name": "stdout",
          "text": [
            "9\n"
          ]
        }
      ]
    },
    {
      "cell_type": "markdown",
      "metadata": {
        "id": "ZAp-bY8Q6jou"
      },
      "source": [
        "# 입력값이 몇 개가 될지 모를때?\n"
      ]
    },
    {
      "cell_type": "markdown",
      "metadata": {
        "id": "krviq3qf6suS"
      },
      "source": [
        "\n",
        "def 함수이름(*매개변수):\n",
        "  <표현식>\n"
      ]
    },
    {
      "cell_type": "markdown",
      "metadata": {
        "id": "IRhguhQJ7fLo"
      },
      "source": [
        "**여러 개의 입력값을 받는 함수 만들기**\n",
        "* add_many(1, 2), add_many(1, 2, 3), add_many(1, 2, 3, 4, 5, 6, 7, 8, 9, 10)"
      ]
    },
    {
      "cell_type": "code",
      "metadata": {
        "id": "7PllyYzb6RTv"
      },
      "source": [
        "def add_many(*args):\n",
        "  result = 0\n",
        "  for i in args:\n",
        "    result += i\n",
        "  return result"
      ],
      "execution_count": null,
      "outputs": []
    },
    {
      "cell_type": "code",
      "metadata": {
        "colab": {
          "base_uri": "https://localhost:8080/"
        },
        "id": "-HwgQdW48z6m",
        "outputId": "55a50d28-c524-421d-b926-046f4e9b9528"
      },
      "source": [
        "result = add_many(1, 2, 3)\n",
        "print(result)"
      ],
      "execution_count": null,
      "outputs": [
        {
          "output_type": "stream",
          "name": "stdout",
          "text": [
            "6\n"
          ]
        }
      ]
    },
    {
      "cell_type": "code",
      "metadata": {
        "colab": {
          "base_uri": "https://localhost:8080/"
        },
        "id": "UVLOIn0G84OP",
        "outputId": "501057f5-4bab-4da9-e436-ca2ac84d80c1"
      },
      "source": [
        "result = add_many(1, 2, 3, 4, 5, 6)\n",
        "print(result)"
      ],
      "execution_count": null,
      "outputs": [
        {
          "output_type": "stream",
          "name": "stdout",
          "text": [
            "21\n"
          ]
        }
      ]
    },
    {
      "cell_type": "code",
      "metadata": {
        "colab": {
          "base_uri": "https://localhost:8080/"
        },
        "id": "Izx9KAnf9ASf",
        "outputId": "239bf283-a8fc-4eae-d573-fad24a6cddc0"
      },
      "source": [
        "result = add_many(1, 2, 3, 4, 5, 6, 7, 8, 9, 10)\n",
        "print(result)"
      ],
      "execution_count": null,
      "outputs": [
        {
          "output_type": "stream",
          "name": "stdout",
          "text": [
            "55\n"
          ]
        }
      ]
    },
    {
      "cell_type": "code",
      "metadata": {
        "id": "PexNUxT2_JjJ"
      },
      "source": [
        "def add_mul(choice, *args):\n",
        "  if choice == 'add':\n",
        "    result = 0\n",
        "    for i in args:\n",
        "      result += i\n",
        "  elif choice == 'mul':\n",
        "    result = 1\n",
        "    for i in args:\n",
        "      result *= i\n",
        "  return result"
      ],
      "execution_count": null,
      "outputs": []
    },
    {
      "cell_type": "code",
      "metadata": {
        "colab": {
          "base_uri": "https://localhost:8080/"
        },
        "id": "jSOvhT7y_s_X",
        "outputId": "251e3aa1-1998-4dee-c930-78dacc759a4e"
      },
      "source": [
        "result = add_mul('add', 1, 2, 3, 4, 5)\n",
        "print(result)"
      ],
      "execution_count": null,
      "outputs": [
        {
          "output_type": "stream",
          "name": "stdout",
          "text": [
            "15\n"
          ]
        }
      ]
    },
    {
      "cell_type": "code",
      "metadata": {
        "colab": {
          "base_uri": "https://localhost:8080/"
        },
        "id": "V20tcmjU_45Y",
        "outputId": "27a022a6-dcab-4d41-caf4-2420cd63e524"
      },
      "source": [
        "result = add_mul('mul', 1, 2, 3, 4, 5)\n",
        "print(result)"
      ],
      "execution_count": null,
      "outputs": [
        {
          "output_type": "stream",
          "name": "stdout",
          "text": [
            "120\n"
          ]
        }
      ]
    },
    {
      "cell_type": "markdown",
      "metadata": {
        "id": "FnEtnpBoAa2f"
      },
      "source": [
        "**키워드 파라미터 kwargs**\n",
        "> 매개변수 앞에 **를 붙인다."
      ]
    },
    {
      "cell_type": "code",
      "metadata": {
        "id": "cV7q4t3A_-cY"
      },
      "source": [
        "def print_kwargs(**kwargs):\n",
        "  print(kwargs)"
      ],
      "execution_count": null,
      "outputs": []
    },
    {
      "cell_type": "code",
      "metadata": {
        "colab": {
          "base_uri": "https://localhost:8080/"
        },
        "id": "GmEBvoACAxhu",
        "outputId": "ac8050ee-1cad-4de3-9805-9112c1ad05fe"
      },
      "source": [
        "print_kwargs(a = 1)"
      ],
      "execution_count": null,
      "outputs": [
        {
          "output_type": "stream",
          "name": "stdout",
          "text": [
            "{'a': 1}\n"
          ]
        }
      ]
    },
    {
      "cell_type": "code",
      "metadata": {
        "colab": {
          "base_uri": "https://localhost:8080/"
        },
        "id": "I34N-NjiBYTp",
        "outputId": "2c00a11f-6a46-411e-aaf5-b8846dab9a22"
      },
      "source": [
        "print_kwargs(name = 'foo', age = 3)"
      ],
      "execution_count": null,
      "outputs": [
        {
          "output_type": "stream",
          "name": "stdout",
          "text": [
            "{'name': 'foo', 'age': 3}\n"
          ]
        }
      ]
    },
    {
      "cell_type": "markdown",
      "metadata": {
        "id": "y7nUSo3VBwsU"
      },
      "source": [
        "`**kwargs` 처럼 매개변수 이름 앞에 `**`를 붙이면 매개변수 kwargs는 딕셔너리가 되고 key = value 형태의 결과값이 그 딕셔너리에 저장된다."
      ]
    },
    {
      "cell_type": "markdown",
      "metadata": {
        "id": "d-lPKB3aCaQu"
      },
      "source": [
        "# 함수의 결과값은 언제나 하나이다."
      ]
    },
    {
      "cell_type": "code",
      "metadata": {
        "id": "gztN2oUtBgoJ"
      },
      "source": [
        "def add_mul(a , b):\n",
        "  return a + b, a*b"
      ],
      "execution_count": null,
      "outputs": []
    },
    {
      "cell_type": "code",
      "metadata": {
        "colab": {
          "base_uri": "https://localhost:8080/"
        },
        "id": "XorAA0DICkNk",
        "outputId": "ce2c140f-8896-41ab-cbe1-649584a984ab"
      },
      "source": [
        "result = add_mul(3, 4)\n",
        "print(result)"
      ],
      "execution_count": null,
      "outputs": [
        {
          "output_type": "stream",
          "name": "stdout",
          "text": [
            "(7, 12)\n"
          ]
        }
      ]
    },
    {
      "cell_type": "code",
      "metadata": {
        "colab": {
          "base_uri": "https://localhost:8080/"
        },
        "id": "MtbjTj2QComs",
        "outputId": "ff0ea0a5-565d-4b46-f13c-59b898e57960"
      },
      "source": [
        "result[0]"
      ],
      "execution_count": null,
      "outputs": [
        {
          "output_type": "execute_result",
          "data": {
            "text/plain": [
              "7"
            ]
          },
          "metadata": {},
          "execution_count": 29
        }
      ]
    },
    {
      "cell_type": "code",
      "metadata": {
        "colab": {
          "base_uri": "https://localhost:8080/"
        },
        "id": "4nv7Mr-KC2xj",
        "outputId": "695be300-5ede-4172-8622-1295d6bbf5e1"
      },
      "source": [
        "result1, result2 = add_mul(3, 4)\n",
        "print(result1, result2)"
      ],
      "execution_count": null,
      "outputs": [
        {
          "output_type": "stream",
          "name": "stdout",
          "text": [
            "7 12\n"
          ]
        }
      ]
    },
    {
      "cell_type": "markdown",
      "metadata": {
        "id": "NFXvYANGD1pz"
      },
      "source": [
        "**[ return의 다른 쓰임새 ]**"
      ]
    },
    {
      "cell_type": "markdown",
      "metadata": {
        "id": "p5unZGY4EJHs"
      },
      "source": [
        "특별한 상황에서 함수를 빠져나가야 할 때 return을 단독으로 사용한다."
      ]
    },
    {
      "cell_type": "code",
      "metadata": {
        "id": "Cv-lxk8gDWSo"
      },
      "source": [
        "def say_nick(nick):\n",
        "  if nick == '바보':\n",
        "    return\n",
        "  print('나의 별명은 %s입니다.' % nick)"
      ],
      "execution_count": null,
      "outputs": []
    },
    {
      "cell_type": "code",
      "metadata": {
        "colab": {
          "base_uri": "https://localhost:8080/"
        },
        "id": "duKTmPpPEXur",
        "outputId": "cba1cbc4-40b2-4f15-f054-4b5339ef08e8"
      },
      "source": [
        "say_nick('천재')\n",
        "say_nick('바보') # 출력되지 않음"
      ],
      "execution_count": null,
      "outputs": [
        {
          "output_type": "stream",
          "name": "stdout",
          "text": [
            "나의 별명은 천재입니다.\n"
          ]
        }
      ]
    },
    {
      "cell_type": "markdown",
      "metadata": {
        "id": "fdwmYo3DFIYG"
      },
      "source": [
        "# 매개변수에 초기값 미리 설정하기"
      ]
    },
    {
      "cell_type": "code",
      "metadata": {
        "id": "CfkW80jVEqMC"
      },
      "source": [
        "def say_myself(name, old, man = True): # default값을 정해줄 매개변수는 꼭 뒤에 적어야함.\n",
        "  print('나의 이름은 %s입니다.' % name)\n",
        "  print('나의 나의는 %d살 입니다.' % old)\n",
        "  if man: # default : True\n",
        "    print('남자 입니다.')\n",
        "  else:\n",
        "    print('여자 입니다.')"
      ],
      "execution_count": null,
      "outputs": []
    },
    {
      "cell_type": "code",
      "metadata": {
        "colab": {
          "base_uri": "https://localhost:8080/"
        },
        "id": "PaC4M1zdFwsJ",
        "outputId": "475392fd-bb4e-419e-c578-5649cb77227e"
      },
      "source": [
        "say_myself('민섭', 17)"
      ],
      "execution_count": null,
      "outputs": [
        {
          "output_type": "stream",
          "name": "stdout",
          "text": [
            "나의 이름은 민섭입니다.\n",
            "나의 나의는 17살 입니다.\n",
            "남자 입니다.\n"
          ]
        }
      ]
    },
    {
      "cell_type": "code",
      "metadata": {
        "colab": {
          "base_uri": "https://localhost:8080/"
        },
        "id": "hMyKw9evF4wN",
        "outputId": "fb772b61-9fd1-4117-99ec-1f1d83f66a4a"
      },
      "source": [
        "say_myself('여인', 17, False)"
      ],
      "execution_count": null,
      "outputs": [
        {
          "output_type": "stream",
          "name": "stdout",
          "text": [
            "나의 이름은 여인입니다.\n",
            "나의 나의는 17살 입니다.\n",
            "여자 입니다.\n"
          ]
        }
      ]
    },
    {
      "cell_type": "markdown",
      "metadata": {
        "id": "JZDU4hxxGjAm"
      },
      "source": [
        "# 함수 안에서 선언한 변수의 효력 범위\n",
        "* 지역변수, 전역변수\n",
        "* 이름 공간(name space)"
      ]
    },
    {
      "cell_type": "code",
      "metadata": {
        "id": "a6GECnzRGKql"
      },
      "source": [
        "a = 1\n",
        "def vartest(a):\n",
        "  a = a + 1\n",
        "  return a"
      ],
      "execution_count": null,
      "outputs": []
    },
    {
      "cell_type": "code",
      "metadata": {
        "colab": {
          "base_uri": "https://localhost:8080/"
        },
        "id": "EWXwOxugHMIQ",
        "outputId": "cb39de9f-f255-4b7a-c48d-f4cd0e8be157"
      },
      "source": [
        "print(vartest(a))"
      ],
      "execution_count": null,
      "outputs": [
        {
          "output_type": "stream",
          "name": "stdout",
          "text": [
            "2\n"
          ]
        }
      ]
    },
    {
      "cell_type": "code",
      "metadata": {
        "colab": {
          "base_uri": "https://localhost:8080/"
        },
        "id": "ooxmGsHOH_Dy",
        "outputId": "2e900374-7eb6-428f-dc5e-f801d8f5d32b"
      },
      "source": [
        "print(a)"
      ],
      "execution_count": null,
      "outputs": [
        {
          "output_type": "stream",
          "name": "stdout",
          "text": [
            "1\n"
          ]
        }
      ]
    },
    {
      "cell_type": "code",
      "metadata": {
        "id": "sLI9ZRpUIDPY"
      },
      "source": [
        ""
      ],
      "execution_count": null,
      "outputs": []
    }
  ]
}