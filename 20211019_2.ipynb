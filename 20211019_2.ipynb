{
  "nbformat": 4,
  "nbformat_minor": 0,
  "metadata": {
    "colab": {
      "name": "20211019-2.ipynb",
      "provenance": [],
      "authorship_tag": "ABX9TyOMxezNJ+m7hGjJckbfOC2x",
      "include_colab_link": true
    },
    "kernelspec": {
      "name": "python3",
      "display_name": "Python 3"
    },
    "language_info": {
      "name": "python"
    }
  },
  "cells": [
    {
      "cell_type": "markdown",
      "metadata": {
        "id": "view-in-github",
        "colab_type": "text"
      },
      "source": [
        "<a href=\"https://colab.research.google.com/github/sonG1031/pythonOnline/blob/main/20211019_2.ipynb\" target=\"_parent\"><img src=\"https://colab.research.google.com/assets/colab-badge.svg\" alt=\"Open In Colab\"/></a>"
      ]
    },
    {
      "cell_type": "code",
      "metadata": {
        "id": "YvEokQghDbUp"
      },
      "source": [
        "def solution(age):\n",
        "    if age < 19:\n",
        "        return '급식'\n",
        "    else:\n",
        "        return '성인'"
      ],
      "execution_count": null,
      "outputs": []
    },
    {
      "cell_type": "code",
      "metadata": {
        "colab": {
          "base_uri": "https://localhost:8080/"
        },
        "id": "23opPkgDD3W_",
        "outputId": "bb03e638-4c85-417d-9433-ff3941f9e7a9"
      },
      "source": [
        "print(solution(27))"
      ],
      "execution_count": null,
      "outputs": [
        {
          "output_type": "stream",
          "name": "stdout",
          "text": [
            "성인\n"
          ]
        }
      ]
    }
  ]
}