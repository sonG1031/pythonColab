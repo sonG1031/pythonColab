{
  "nbformat": 4,
  "nbformat_minor": 0,
  "metadata": {
    "colab": {
      "name": "20211019-1.ipynb",
      "provenance": [],
      "authorship_tag": "ABX9TyN9OmEoJ5Vx/hmCCZiRrP5E",
      "include_colab_link": true
    },
    "kernelspec": {
      "name": "python3",
      "display_name": "Python 3"
    },
    "language_info": {
      "name": "python"
    }
  },
  "cells": [
    {
      "cell_type": "markdown",
      "metadata": {
        "id": "view-in-github",
        "colab_type": "text"
      },
      "source": [
        "<a href=\"https://colab.research.google.com/github/sonG1031/pythonOnline/blob/main/20211019_1.ipynb\" target=\"_parent\"><img src=\"https://colab.research.google.com/assets/colab-badge.svg\" alt=\"Open In Colab\"/></a>"
      ]
    },
    {
      "cell_type": "code",
      "metadata": {
        "colab": {
          "base_uri": "https://localhost:8080/"
        },
        "id": "ZkyuKvzo_kq7",
        "outputId": "852e19e8-854d-46d2-f715-183dba657be7"
      },
      "source": [
        "age = int(input('나이: '))\n",
        "\n",
        "if age < 19:\n",
        "    print('급식')\n",
        "else:\n",
        "    print('성인')"
      ],
      "execution_count": null,
      "outputs": [
        {
          "output_type": "stream",
          "name": "stdout",
          "text": [
            "나이: 17\n",
            "급식\n"
          ]
        }
      ]
    }
  ]
}