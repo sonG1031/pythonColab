{
  "nbformat": 4,
  "nbformat_minor": 0,
  "metadata": {
    "colab": {
      "name": "반복문.ipynb",
      "provenance": [],
      "authorship_tag": "ABX9TyOQyarBjx5n9A5R8eXwFdvZ",
      "include_colab_link": true
    },
    "kernelspec": {
      "name": "python3",
      "display_name": "Python 3"
    },
    "language_info": {
      "name": "python"
    }
  },
  "cells": [
    {
      "cell_type": "markdown",
      "metadata": {
        "id": "view-in-github",
        "colab_type": "text"
      },
      "source": [
        "<a href=\"https://colab.research.google.com/github/sonG1031/pythonOnline/blob/main/%EB%B0%98%EB%B3%B5%EB%AC%B8.ipynb\" target=\"_parent\"><img src=\"https://colab.research.google.com/assets/colab-badge.svg\" alt=\"Open In Colab\"/></a>"
      ]
    },
    {
      "cell_type": "markdown",
      "metadata": {
        "id": "N_ZhaTHm6B3i"
      },
      "source": [
        "## **학습목표**\n",
        "- 반복문의 이해 및 활용(for)\n",
        "- range 함수 이해\n"
      ]
    },
    {
      "cell_type": "markdown",
      "metadata": {
        "id": "HhWrgd4x6VJA"
      },
      "source": [
        "### **for 반복문**\n",
        "- 리스트, 문자열 등 순회를 하면서 값을 처리할 때 사용\n",
        "- i는 매번 수행될 때마다 a 리스트 안의 값으로 순차적으로 변경된다.\n",
        "- 모든 a안의  값이 수행되면 for문의 블록이 종료된다."
      ]
    },
    {
      "cell_type": "code",
      "metadata": {
        "colab": {
          "base_uri": "https://localhost:8080/"
        },
        "id": "qZGSJ8XS6Lyu",
        "outputId": "9ee689a9-991d-4cc4-e618-aa4019eb2a9e"
      },
      "source": [
        "a = [1, 2, 3, 4, 5] #리스트\n",
        "\n",
        "for i in a:\n",
        "  print(i, i*2)\n",
        "print(\"최종 i값 : \" , i)"
      ],
      "execution_count": 4,
      "outputs": [
        {
          "output_type": "stream",
          "name": "stdout",
          "text": [
            "1 2\n",
            "2 4\n",
            "3 6\n",
            "4 8\n",
            "5 10\n",
            "최종 i값 :  5\n"
          ]
        }
      ]
    },
    {
      "cell_type": "code",
      "metadata": {
        "colab": {
          "base_uri": "https://localhost:8080/"
        },
        "id": "-lcdIZ4w7vFS",
        "outputId": "d572b060-5691-4e24-b261-abddcb9267ab"
      },
      "source": [
        "#문자열의 아이템 출력하기\n",
        "\n",
        "for x in \"Hello comnet A!\":\n",
        "  print(x)\n"
      ],
      "execution_count": 5,
      "outputs": [
        {
          "output_type": "stream",
          "name": "stdout",
          "text": [
            "H\n",
            "e\n",
            "l\n",
            "l\n",
            "o\n",
            " \n",
            "c\n",
            "o\n",
            "m\n",
            "n\n",
            "e\n",
            "t\n",
            " \n",
            "A\n",
            "!\n"
          ]
        }
      ]
    },
    {
      "cell_type": "code",
      "metadata": {
        "colab": {
          "base_uri": "https://localhost:8080/"
        },
        "id": "xNK7PBKy8unw",
        "outputId": "91a1f763-5e57-401a-e960-4da513495db1"
      },
      "source": [
        "# a 리스트 안의 수가 짝수의 경우 2로 나누고,\n",
        "# 홀수의 경우 2로 곱한 수를 출력하시오\n",
        "\n",
        "a = [1, 10, 7, 29, 18] #짝수와 홀수\n",
        "\n",
        "for i in a:\n",
        "  if i % 2 == 0: # 짝수\n",
        "    print(i//2)\n",
        "  else: # 홀수\n",
        "    print(i * 2)"
      ],
      "execution_count": 7,
      "outputs": [
        {
          "output_type": "stream",
          "name": "stdout",
          "text": [
            "2\n",
            "5\n",
            "14\n",
            "58\n",
            "9\n"
          ]
        }
      ]
    },
    {
      "cell_type": "code",
      "metadata": {
        "colab": {
          "base_uri": "https://localhost:8080/"
        },
        "id": "ZvxFw9OW94Se",
        "outputId": "61f202a2-e3e9-4daf-c560-6bfa2f6b1c1e"
      },
      "source": [
        "# 첫줄에 테스트 케이스가 주어지고,\n",
        "# 두번째 줄부터 나오는 수를 입력받아\n",
        "# 테스트 케이스만큼 각 수를 더하는 문제\n",
        "nums = int(input())\n",
        "\n",
        "for _ in range(nums):\n",
        "    A, B = input().split()\n",
        "    A = int(A)\n",
        "    B = int(B)\n",
        "    print(A + B)   "
      ],
      "execution_count": 19,
      "outputs": [
        {
          "output_type": "stream",
          "name": "stdout",
          "text": [
            "5\n",
            "1 2\n",
            "3\n",
            "3 6\n",
            "9\n",
            "9 10\n",
            "19\n",
            "6 7\n",
            "13\n",
            "23 1\n",
            "24\n"
          ]
        }
      ]
    },
    {
      "cell_type": "markdown",
      "metadata": {
        "id": "x3-CiaUsH8hL"
      },
      "source": [
        "### **break**\n",
        "  - 특정 조건을 만족할 떄, 블록을 빠져나오기 위해서 사용"
      ]
    },
    {
      "cell_type": "code",
      "metadata": {
        "colab": {
          "base_uri": "https://localhost:8080/"
        },
        "id": "96HuSV2FIMYE",
        "outputId": "0b99a4ed-f647-4837-fb77-ceaa5e2a2b83"
      },
      "source": [
        "a = [1, 10, 7, 29, 18]\n",
        "\n",
        "for i in a:\n",
        "  if i > 20:\n",
        "    break\n",
        "  print(i)"
      ],
      "execution_count": 21,
      "outputs": [
        {
          "output_type": "stream",
          "name": "stdout",
          "text": [
            "1\n",
            "10\n",
            "7\n"
          ]
        }
      ]
    },
    {
      "cell_type": "markdown",
      "metadata": {
        "id": "VnCXSoe4JlYD"
      },
      "source": [
        "## **continue**\n",
        "- 해당 아이템을 건너 뛰고 싶을 떄 사용"
      ]
    },
    {
      "cell_type": "code",
      "metadata": {
        "colab": {
          "base_uri": "https://localhost:8080/"
        },
        "id": "fWcBZ07gJuNo",
        "outputId": "3924fb19-b994-46f8-e0c3-4b3a365de3b7"
      },
      "source": [
        "a = [3,9,7,29,18]\n",
        "\n",
        "for i in a:\n",
        "  if i>5 and i<20:\n",
        "    continue\n",
        "  print(i)"
      ],
      "execution_count": 23,
      "outputs": [
        {
          "output_type": "stream",
          "name": "stdout",
          "text": [
            "3\n",
            "29\n"
          ]
        }
      ]
    },
    {
      "cell_type": "code",
      "metadata": {
        "colab": {
          "base_uri": "https://localhost:8080/"
        },
        "id": "VNzEwttsK7zS",
        "outputId": "da3e9704-2989-4c69-84f6-d4282ad60dcf"
      },
      "source": [
        "# a 리스트가 주어졌을 때,\n",
        "# 짝수를 만나면 2를 곱한 수를 출력하고,\n",
        "# 홀수를 만나면 넘어가고,\n",
        "# 0을 만났을 때 종료되는 프로그램을 작성하시오.\n",
        "\n",
        "a = [3, 2, 5, 10, 23, 12, 3, 4, 0, 2, 4]\n",
        "\n",
        "for i in a:\n",
        "  if i == 0:\n",
        "    break\n",
        "  elif i % 2 == 0:\n",
        "    print(i * 2)\n",
        "  else:\n",
        "    continue"
      ],
      "execution_count": 32,
      "outputs": [
        {
          "output_type": "stream",
          "name": "stdout",
          "text": [
            "4\n",
            "20\n",
            "24\n",
            "8\n"
          ]
        }
      ]
    },
    {
      "cell_type": "markdown",
      "metadata": {
        "id": "V-MEUqe2Tj2m"
      },
      "source": [
        "### **range 함수**\n",
        "- 리스트 혹은 튜플을 쉽게 만들 수 있는 내장함수\n",
        "- 주어진 값에 따라 다양한 결과를 반환\n",
        "```python\n",
        "range(10)  => [0, 1, 2, 3, 4, 5, 6, 7, 8, 9]\n",
        "range(2, 10) => [2, 3, 4, 5, 6, 7, 8, 9]\n",
        "range(2, 10, 3) => [2, 5, 8]\n",
        "```"
      ]
    },
    {
      "cell_type": "code",
      "metadata": {
        "colab": {
          "base_uri": "https://localhost:8080/"
        },
        "id": "btH8RPJpVE_9",
        "outputId": "663352d5-cb8f-40e2-89cd-b29e167dbd17"
      },
      "source": [
        "list(range(10))\n",
        "list(range(2,10))\n",
        "list(range(2, 10, 3))"
      ],
      "execution_count": 38,
      "outputs": [
        {
          "output_type": "execute_result",
          "data": {
            "text/plain": [
              "[2, 5, 8]"
            ]
          },
          "metadata": {},
          "execution_count": 38
        }
      ]
    },
    {
      "cell_type": "markdown",
      "metadata": {
        "id": "ryT5TrnkVyGe"
      },
      "source": [
        "#### **구구단 출력하기**\n",
        "- 2단부터 9단까지 \n",
        "- 각 단은 1부터 9까지 곱하도록\n",
        "\n",
        ">- 2 * 1 = 2\n",
        ">- 2* 2 = 4\n",
        ">- .....\n",
        ">- 2* 9 = 18\n",
        "> -총 9단까지 출력"
      ]
    },
    {
      "cell_type": "code",
      "metadata": {
        "colab": {
          "base_uri": "https://localhost:8080/"
        },
        "id": "INYAFH_wVtfU",
        "outputId": "9385ae9d-d6dd-4c67-cd26-3c08ab3c02c5"
      },
      "source": [
        "for i in range(2,10):\n",
        "  for j in range(1,10):\n",
        "    print(i*j)"
      ],
      "execution_count": 39,
      "outputs": [
        {
          "output_type": "stream",
          "name": "stdout",
          "text": [
            "2\n",
            "4\n",
            "6\n",
            "8\n",
            "10\n",
            "12\n",
            "14\n",
            "16\n",
            "18\n",
            "3\n",
            "6\n",
            "9\n",
            "12\n",
            "15\n",
            "18\n",
            "21\n",
            "24\n",
            "27\n",
            "4\n",
            "8\n",
            "12\n",
            "16\n",
            "20\n",
            "24\n",
            "28\n",
            "32\n",
            "36\n",
            "5\n",
            "10\n",
            "15\n",
            "20\n",
            "25\n",
            "30\n",
            "35\n",
            "40\n",
            "45\n",
            "6\n",
            "12\n",
            "18\n",
            "24\n",
            "30\n",
            "36\n",
            "42\n",
            "48\n",
            "54\n",
            "7\n",
            "14\n",
            "21\n",
            "28\n",
            "35\n",
            "42\n",
            "49\n",
            "56\n",
            "63\n",
            "8\n",
            "16\n",
            "24\n",
            "32\n",
            "40\n",
            "48\n",
            "56\n",
            "64\n",
            "72\n",
            "9\n",
            "18\n",
            "27\n",
            "36\n",
            "45\n",
            "54\n",
            "63\n",
            "72\n",
            "81\n"
          ]
        }
      ]
    }
  ]
}