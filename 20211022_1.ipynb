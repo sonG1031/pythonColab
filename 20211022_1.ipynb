{
  "nbformat": 4,
  "nbformat_minor": 0,
  "metadata": {
    "colab": {
      "name": "20211022-1.ipynb",
      "provenance": [],
      "authorship_tag": "ABX9TyMl3jrLtGRwncsTFo/j5Um2",
      "include_colab_link": true
    },
    "kernelspec": {
      "name": "python3",
      "display_name": "Python 3"
    },
    "language_info": {
      "name": "python"
    }
  },
  "cells": [
    {
      "cell_type": "markdown",
      "metadata": {
        "id": "view-in-github",
        "colab_type": "text"
      },
      "source": [
        "<a href=\"https://colab.research.google.com/github/sonG1031/pythonOnline/blob/main/20211022_1.ipynb\" target=\"_parent\"><img src=\"https://colab.research.google.com/assets/colab-badge.svg\" alt=\"Open In Colab\"/></a>"
      ]
    },
    {
      "cell_type": "code",
      "metadata": {
        "colab": {
          "base_uri": "https://localhost:8080/"
        },
        "id": "S7banLswek8x",
        "outputId": "3d4ed451-752c-4dfb-ebe2-75be24424017"
      },
      "source": [
        "num1 = int(input('첫번쨰 수: '))\n",
        "num2 = int(input('두번쨰 수: '))\n",
        "\n",
        "big, small, nmg = 0, 0, 0\n",
        "\n",
        "if num1 > num2:\n",
        "    big = num1\n",
        "    small = num2\n",
        "else:\n",
        "    big = num2\n",
        "    small = num1\n",
        "\n",
        "while True:\n",
        "    nmg = big % small\n",
        "    if nmg == 0:\n",
        "        break\n",
        "    else:\n",
        "        big = small\n",
        "        small = nmg\n",
        "\n",
        "print('입력한 {0}와 {1}의 최대공약수는 {2}입니다.'.format(num1, num2,small)) "
      ],
      "execution_count": null,
      "outputs": [
        {
          "output_type": "stream",
          "name": "stdout",
          "text": [
            "첫번쨰 수: 1920\n",
            "두번쨰 수: 1080\n",
            "입력한 1920와 1080의 최대공약수는 120입니다.\n"
          ]
        }
      ]
    }
  ]
}