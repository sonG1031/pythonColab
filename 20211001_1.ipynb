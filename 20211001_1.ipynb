{
  "nbformat": 4,
  "nbformat_minor": 0,
  "metadata": {
    "colab": {
      "name": "20211001-1.ipynb",
      "provenance": [],
      "authorship_tag": "ABX9TyP+AVc0jPHBjlBEJTO9fnvk",
      "include_colab_link": true
    },
    "kernelspec": {
      "name": "python3",
      "display_name": "Python 3"
    },
    "language_info": {
      "name": "python"
    }
  },
  "cells": [
    {
      "cell_type": "markdown",
      "metadata": {
        "id": "view-in-github",
        "colab_type": "text"
      },
      "source": [
        "<a href=\"https://colab.research.google.com/github/sonG1031/pythonOnline/blob/main/20211001_1.ipynb\" target=\"_parent\"><img src=\"https://colab.research.google.com/assets/colab-badge.svg\" alt=\"Open In Colab\"/></a>"
      ]
    },
    {
      "cell_type": "code",
      "metadata": {
        "colab": {
          "base_uri": "https://localhost:8080/"
        },
        "id": "zf8AdD2ML80M",
        "outputId": "110d66b4-582a-4fa7-85a9-d939c9b0e95c"
      },
      "source": [
        "import random\n",
        "\n",
        "num = random.randrange(1, 4)\n",
        "print(num)"
      ],
      "execution_count": null,
      "outputs": [
        {
          "output_type": "stream",
          "name": "stdout",
          "text": [
            "2\n"
          ]
        }
      ]
    },
    {
      "cell_type": "code",
      "metadata": {
        "colab": {
          "base_uri": "https://localhost:8080/"
        },
        "id": "pbVvpH6rUF5y",
        "outputId": "be8b3b17-8749-4aeb-d295-e021b20ccffe"
      },
      "source": [
        "count = 0\n",
        "while count<11:\n",
        "  print(count, end=' ')\n",
        "  count += 1"
      ],
      "execution_count": null,
      "outputs": [
        {
          "output_type": "stream",
          "name": "stdout",
          "text": [
            "0 1 2 3 4 5 6 7 8 9 10 "
          ]
        }
      ]
    },
    {
      "cell_type": "code",
      "metadata": {
        "colab": {
          "base_uri": "https://localhost:8080/",
          "height": 226
        },
        "id": "UrMuQstZUvsZ",
        "outputId": "b90472d0-af75-449e-aefd-edc39d253bec"
      },
      "source": [
        "import time\n",
        "\n",
        "while True:\n",
        "  print('a', end=' ')\n",
        "  time.sleep(3)"
      ],
      "execution_count": null,
      "outputs": [
        {
          "output_type": "stream",
          "name": "stdout",
          "text": [
            "a a a a a a a a a a a a a a a a a a a a a a "
          ]
        },
        {
          "output_type": "error",
          "ename": "KeyboardInterrupt",
          "evalue": "ignored",
          "traceback": [
            "\u001b[0;31m---------------------------------------------------------------------------\u001b[0m",
            "\u001b[0;31mKeyboardInterrupt\u001b[0m                         Traceback (most recent call last)",
            "\u001b[0;32m<ipython-input-10-b65868342492>\u001b[0m in \u001b[0;36m<module>\u001b[0;34m()\u001b[0m\n\u001b[1;32m      3\u001b[0m \u001b[0;32mwhile\u001b[0m \u001b[0;32mTrue\u001b[0m\u001b[0;34m:\u001b[0m\u001b[0;34m\u001b[0m\u001b[0;34m\u001b[0m\u001b[0m\n\u001b[1;32m      4\u001b[0m   \u001b[0mprint\u001b[0m\u001b[0;34m(\u001b[0m\u001b[0;34m'a'\u001b[0m\u001b[0;34m,\u001b[0m \u001b[0mend\u001b[0m\u001b[0;34m=\u001b[0m\u001b[0;34m' '\u001b[0m\u001b[0;34m)\u001b[0m\u001b[0;34m\u001b[0m\u001b[0;34m\u001b[0m\u001b[0m\n\u001b[0;32m----> 5\u001b[0;31m   \u001b[0mtime\u001b[0m\u001b[0;34m.\u001b[0m\u001b[0msleep\u001b[0m\u001b[0;34m(\u001b[0m\u001b[0;36m3\u001b[0m\u001b[0;34m)\u001b[0m\u001b[0;34m\u001b[0m\u001b[0;34m\u001b[0m\u001b[0m\n\u001b[0m",
            "\u001b[0;31mKeyboardInterrupt\u001b[0m: "
          ]
        }
      ]
    },
    {
      "cell_type": "code",
      "metadata": {
        "colab": {
          "base_uri": "https://localhost:8080/",
          "height": 478
        },
        "id": "QF4Xi66tVXZT",
        "outputId": "607c90e7-dac2-4cbd-8bc1-54081464166e"
      },
      "source": [
        "import random\n",
        "import time\n",
        "\n",
        "myWin = 0\n",
        "comWin = 0\n",
        "\n",
        "while True:\n",
        "  num = random.randrange(1, 4) # 1: 가위, 2: 바위, 3: 보\n",
        "  if num == 1:\n",
        "    myWin += 1\n",
        "  elif num == 3:\n",
        "    comWin += 1\n",
        "  else:\n",
        "    print('비겻당')\n",
        "  print('송민섭: {0}승 {1}패, 컴퓨터: {1}승 {0}패'.format(myWin, comWin))\n",
        "  time.sleep(2)"
      ],
      "execution_count": null,
      "outputs": [
        {
          "output_type": "stream",
          "name": "stdout",
          "text": [
            "비겻당\n",
            "송민섭: 0승 0패, 컴퓨터: 0승 0패\n",
            "송민섭: 0승 1패, 컴퓨터: 1승 0패\n",
            "송민섭: 1승 1패, 컴퓨터: 1승 1패\n",
            "송민섭: 2승 1패, 컴퓨터: 1승 2패\n",
            "송민섭: 3승 1패, 컴퓨터: 1승 3패\n",
            "송민섭: 4승 1패, 컴퓨터: 1승 4패\n",
            "비겻당\n",
            "송민섭: 4승 1패, 컴퓨터: 1승 4패\n",
            "송민섭: 4승 2패, 컴퓨터: 2승 4패\n",
            "송민섭: 5승 2패, 컴퓨터: 2승 5패\n",
            "송민섭: 6승 2패, 컴퓨터: 2승 6패\n",
            "비겻당\n",
            "송민섭: 6승 2패, 컴퓨터: 2승 6패\n",
            "송민섭: 6승 3패, 컴퓨터: 3승 6패\n"
          ]
        },
        {
          "output_type": "error",
          "ename": "KeyboardInterrupt",
          "evalue": "ignored",
          "traceback": [
            "\u001b[0;31m---------------------------------------------------------------------------\u001b[0m",
            "\u001b[0;31mKeyboardInterrupt\u001b[0m                         Traceback (most recent call last)",
            "\u001b[0;32m<ipython-input-16-580852b553e1>\u001b[0m in \u001b[0;36m<module>\u001b[0;34m()\u001b[0m\n\u001b[1;32m     14\u001b[0m     \u001b[0mprint\u001b[0m\u001b[0;34m(\u001b[0m\u001b[0;34m'비겻당'\u001b[0m\u001b[0;34m)\u001b[0m\u001b[0;34m\u001b[0m\u001b[0;34m\u001b[0m\u001b[0m\n\u001b[1;32m     15\u001b[0m   \u001b[0mprint\u001b[0m\u001b[0;34m(\u001b[0m\u001b[0;34m'송민섭: {0}승 {1}패, 컴퓨터: {1}승 {0}패'\u001b[0m\u001b[0;34m.\u001b[0m\u001b[0mformat\u001b[0m\u001b[0;34m(\u001b[0m\u001b[0mmyWin\u001b[0m\u001b[0;34m,\u001b[0m \u001b[0mcomWin\u001b[0m\u001b[0;34m)\u001b[0m\u001b[0;34m)\u001b[0m\u001b[0;34m\u001b[0m\u001b[0;34m\u001b[0m\u001b[0m\n\u001b[0;32m---> 16\u001b[0;31m   \u001b[0mtime\u001b[0m\u001b[0;34m.\u001b[0m\u001b[0msleep\u001b[0m\u001b[0;34m(\u001b[0m\u001b[0;36m2\u001b[0m\u001b[0;34m)\u001b[0m\u001b[0;34m\u001b[0m\u001b[0;34m\u001b[0m\u001b[0m\n\u001b[0m",
            "\u001b[0;31mKeyboardInterrupt\u001b[0m: "
          ]
        }
      ]
    }
  ]
}