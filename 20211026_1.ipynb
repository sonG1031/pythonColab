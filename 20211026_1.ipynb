{
  "nbformat": 4,
  "nbformat_minor": 0,
  "metadata": {
    "colab": {
      "name": "20211026-1.ipynb",
      "provenance": [],
      "authorship_tag": "ABX9TyPL/Zqy1QyyDs86TLGoE7ma",
      "include_colab_link": true
    },
    "kernelspec": {
      "name": "python3",
      "display_name": "Python 3"
    },
    "language_info": {
      "name": "python"
    }
  },
  "cells": [
    {
      "cell_type": "markdown",
      "metadata": {
        "id": "view-in-github",
        "colab_type": "text"
      },
      "source": [
        "<a href=\"https://colab.research.google.com/github/sonG1031/pythonOnline/blob/main/20211026_1.ipynb\" target=\"_parent\"><img src=\"https://colab.research.google.com/assets/colab-badge.svg\" alt=\"Open In Colab\"/></a>"
      ]
    },
    {
      "cell_type": "code",
      "metadata": {
        "id": "5MfpNMhf175a"
      },
      "source": [
        "def solution(n):\n",
        "    sum = n % 10\n",
        "    digit = 0 \n",
        "\n",
        "    while n > 0:\n",
        "        n = n // 10\n",
        "        digit = n % 10\n",
        "        sum += digit\n",
        "\n",
        "    return sum\n"
      ],
      "execution_count": null,
      "outputs": []
    },
    {
      "cell_type": "code",
      "metadata": {
        "id": "99IHrvWX7MC-"
      },
      "source": [
        "def solution_t(n):\n",
        "    sum = 0 \n",
        "\n",
        "    while n > 0:\n",
        "        sum += n % 10\n",
        "        n = n // 10\n",
        "\n",
        "    return sum"
      ],
      "execution_count": null,
      "outputs": []
    },
    {
      "cell_type": "code",
      "metadata": {
        "id": "9cV19-wP84fO"
      },
      "source": [
        "def solution_str(n):\n",
        "    sum = 0\n",
        "    \n",
        "    for i in str(n):\n",
        "        sum += int(i)\n",
        "\n",
        "    return sum"
      ],
      "execution_count": null,
      "outputs": []
    },
    {
      "cell_type": "code",
      "metadata": {
        "colab": {
          "base_uri": "https://localhost:8080/"
        },
        "id": "6PFPhLmC4mSw",
        "outputId": "b825376d-b56e-4d31-bc1a-966299739b0b"
      },
      "source": [
        "print(solution(32467))\n",
        "print(solution_t(123456789))\n",
        "print(solution_str(32467))"
      ],
      "execution_count": null,
      "outputs": [
        {
          "output_type": "stream",
          "name": "stdout",
          "text": [
            "22\n",
            "45\n",
            "22\n"
          ]
        }
      ]
    }
  ]
}