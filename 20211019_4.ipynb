{
  "nbformat": 4,
  "nbformat_minor": 0,
  "metadata": {
    "colab": {
      "name": "20211019-4.ipynb",
      "provenance": [],
      "authorship_tag": "ABX9TyPvK0FPk4vxwvqMbGU/HZAT",
      "include_colab_link": true
    },
    "kernelspec": {
      "name": "python3",
      "display_name": "Python 3"
    },
    "language_info": {
      "name": "python"
    }
  },
  "cells": [
    {
      "cell_type": "markdown",
      "metadata": {
        "id": "view-in-github",
        "colab_type": "text"
      },
      "source": [
        "<a href=\"https://colab.research.google.com/github/sonG1031/pythonOnline/blob/main/20211019_4.ipynb\" target=\"_parent\"><img src=\"https://colab.research.google.com/assets/colab-badge.svg\" alt=\"Open In Colab\"/></a>"
      ]
    },
    {
      "cell_type": "code",
      "metadata": {
        "id": "nEyvqqBkQR3B"
      },
      "source": [
        "def solution(result):\n",
        "    score = 0\n",
        "    for i in result:\n",
        "        if i == 'W':\n",
        "            score += 3\n",
        "        elif i == 'D':\n",
        "            score += 1\n",
        "        else:\n",
        "            continue\n",
        "    return score"
      ],
      "execution_count": null,
      "outputs": []
    },
    {
      "cell_type": "code",
      "metadata": {
        "colab": {
          "base_uri": "https://localhost:8080/"
        },
        "id": "jZEOds7qRIz9",
        "outputId": "bff5143f-3bb2-4864-a4ad-de611af2053d"
      },
      "source": [
        "print(solution('WWDL'))\n",
        "print(solution('DDDDL'))\n",
        "print(solution('WDWDWDWD'))"
      ],
      "execution_count": null,
      "outputs": [
        {
          "output_type": "stream",
          "name": "stdout",
          "text": [
            "7\n",
            "4\n",
            "16\n"
          ]
        }
      ]
    }
  ]
}