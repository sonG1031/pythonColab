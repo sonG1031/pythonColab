{
  "nbformat": 4,
  "nbformat_minor": 0,
  "metadata": {
    "colab": {
      "name": "20211026-3.ipynb",
      "provenance": [],
      "collapsed_sections": [],
      "authorship_tag": "ABX9TyN3WpdmoRtaO/qVrmrZZpKg",
      "include_colab_link": true
    },
    "kernelspec": {
      "name": "python3",
      "display_name": "Python 3"
    },
    "language_info": {
      "name": "python"
    }
  },
  "cells": [
    {
      "cell_type": "markdown",
      "metadata": {
        "id": "view-in-github",
        "colab_type": "text"
      },
      "source": [
        "<a href=\"https://colab.research.google.com/github/sonG1031/pythonOnline/blob/main/20211026_3.ipynb\" target=\"_parent\"><img src=\"https://colab.research.google.com/assets/colab-badge.svg\" alt=\"Open In Colab\"/></a>"
      ]
    },
    {
      "cell_type": "code",
      "metadata": {
        "id": "GsX3leDrPl8E"
      },
      "source": [
        "def solution(n): # 직접 짠 코드(자랑ㅎ)\n",
        "    a,b = 1,1\n",
        "    while n-2 >0:\n",
        "        a,b = b,a+b\n",
        "        n -=1\n",
        "    return b"
      ],
      "execution_count": null,
      "outputs": []
    },
    {
      "cell_type": "code",
      "metadata": {
        "colab": {
          "base_uri": "https://localhost:8080/"
        },
        "id": "QaHkmK2YS2Rv",
        "outputId": "6203e9d6-3529-4956-d4ec-dac94c858860"
      },
      "source": [
        "print(solution(10))"
      ],
      "execution_count": null,
      "outputs": [
        {
          "output_type": "stream",
          "name": "stdout",
          "text": [
            "55\n"
          ]
        }
      ]
    },
    {
      "cell_type": "code",
      "metadata": {
        "id": "fQmaqijTWAMO"
      },
      "source": [
        "def parking_charge(minute):\n",
        "        money = 0\n",
        "        if minute <= 30:\n",
        "            money += 1000\n",
        "        else:\n",
        "            money += 1000 + ((minute-30)//10) * 300\n",
        "        return money"
      ],
      "execution_count": null,
      "outputs": []
    },
    {
      "cell_type": "code",
      "metadata": {
        "colab": {
          "base_uri": "https://localhost:8080/"
        },
        "id": "E2630LAmWA1_",
        "outputId": "fa64c31d-af2b-474d-ee93-62ded1d210a8"
      },
      "source": [
        "print(parking_charge(50))"
      ],
      "execution_count": null,
      "outputs": [
        {
          "output_type": "stream",
          "name": "stdout",
          "text": [
            "1600\n"
          ]
        }
      ]
    },
    {
      "cell_type": "code",
      "metadata": {
        "id": "K2YzlgWaZLQ_"
      },
      "source": [
        "def confirm(pwd):\n",
        "        length = len(pwd)\n",
        "        low, up, num = 0, 0, 0\n",
        "        \n",
        "        if length >= 7:\n",
        "            for i in pwd:\n",
        "                if i.isupper():\n",
        "                    up += 1\n",
        "                elif i.islower():\n",
        "                    low += 1\n",
        "                else:\n",
        "                    num += 1\n",
        "        if up >= 1 and low >= 1 and num >= 1:\n",
        "            return 1\n",
        "        else:\n",
        "            return 0"
      ],
      "execution_count": null,
      "outputs": []
    },
    {
      "cell_type": "code",
      "metadata": {
        "colab": {
          "base_uri": "https://localhost:8080/"
        },
        "id": "KjVR9wSYZPYe",
        "outputId": "cdfc2e4b-bdc2-45e1-a969-caff389779a4"
      },
      "source": [
        "print(confirm(\"School2019\"))"
      ],
      "execution_count": null,
      "outputs": [
        {
          "output_type": "stream",
          "name": "stdout",
          "text": [
            "1\n"
          ]
        }
      ]
    },
    {
      "cell_type": "code",
      "metadata": {
        "id": "3APaCmMZcQcu"
      },
      "source": [
        "def solution(num):\n",
        "        b = 0\n",
        "        for i in range(1, num+1):\n",
        "            a = 0\n",
        "            for j in range(1, i):\n",
        "                if i % j == 0:\n",
        "                    a += j              \n",
        "            if i == a:\n",
        "                b += a\n",
        "        return b"
      ],
      "execution_count": null,
      "outputs": []
    },
    {
      "cell_type": "code",
      "metadata": {
        "colab": {
          "base_uri": "https://localhost:8080/"
        },
        "id": "kxbWEycYcZft",
        "outputId": "7037fbb9-0749-4acc-853a-ea7a5f474d8c"
      },
      "source": [
        "print(solution(100))"
      ],
      "execution_count": null,
      "outputs": [
        {
          "output_type": "stream",
          "name": "stdout",
          "text": [
            "34\n"
          ]
        }
      ]
    },
    {
      "cell_type": "code",
      "metadata": {
        "colab": {
          "base_uri": "https://localhost:8080/"
        },
        "id": "3JUr9AM1eZem",
        "outputId": "6a7a81b5-833a-42d3-db1f-fc940393ebe7"
      },
      "source": [
        "num = 70\n",
        "a = list(str(num))\n",
        "a.reverse()\n",
        "a = int(\"\".join(a)) * 2\n",
        "a"
      ],
      "execution_count": null,
      "outputs": [
        {
          "output_type": "execute_result",
          "data": {
            "text/plain": [
              "14"
            ]
          },
          "metadata": {},
          "execution_count": 43
        }
      ]
    }
  ]
}