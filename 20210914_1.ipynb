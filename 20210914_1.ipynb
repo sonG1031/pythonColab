{
  "nbformat": 4,
  "nbformat_minor": 0,
  "metadata": {
    "colab": {
      "name": "20210914-1.ipynb",
      "provenance": [],
      "include_colab_link": true
    },
    "kernelspec": {
      "name": "python3",
      "display_name": "Python 3"
    },
    "language_info": {
      "name": "python"
    }
  },
  "cells": [
    {
      "cell_type": "markdown",
      "metadata": {
        "id": "view-in-github",
        "colab_type": "text"
      },
      "source": [
        "<a href=\"https://colab.research.google.com/github/sonG1031/pythonOnline/blob/main/20210914_1.ipynb\" target=\"_parent\"><img src=\"https://colab.research.google.com/assets/colab-badge.svg\" alt=\"Open In Colab\"/></a>"
      ]
    },
    {
      "cell_type": "code",
      "metadata": {
        "colab": {
          "base_uri": "https://localhost:8080/"
        },
        "id": "czk1sQlKhxub",
        "outputId": "f46ea834-26cc-48ff-9564-77cb8f3de998"
      },
      "source": [
        "a = (1,2,3)\n",
        "print(type(a))"
      ],
      "execution_count": null,
      "outputs": [
        {
          "output_type": "stream",
          "name": "stdout",
          "text": [
            "<class 'tuple'>\n"
          ]
        }
      ]
    },
    {
      "cell_type": "code",
      "metadata": {
        "colab": {
          "base_uri": "https://localhost:8080/"
        },
        "id": "51PB2OhIi3Dq",
        "outputId": "039e373d-1198-46c4-8c06-fe4da0e73d7d"
      },
      "source": [
        "b = (1)\n",
        "print(type(b))"
      ],
      "execution_count": null,
      "outputs": [
        {
          "output_type": "stream",
          "name": "stdout",
          "text": [
            "<class 'int'>\n"
          ]
        }
      ]
    },
    {
      "cell_type": "code",
      "metadata": {
        "colab": {
          "base_uri": "https://localhost:8080/"
        },
        "id": "OXX2nliwj2Da",
        "outputId": "cf6e7ce4-8370-4d6d-89fc-4e324bd9929e"
      },
      "source": [
        " c = (1,)\n",
        " print(type(c))"
      ],
      "execution_count": null,
      "outputs": [
        {
          "output_type": "stream",
          "name": "stdout",
          "text": [
            "<class 'tuple'>\n"
          ]
        }
      ]
    },
    {
      "cell_type": "code",
      "metadata": {
        "colab": {
          "base_uri": "https://localhost:8080/"
        },
        "id": "VxM-RZXSj_cQ",
        "outputId": "61009efb-a8d2-44bd-a82b-91a018639d0e"
      },
      "source": [
        "a = (1, 2, 3)\n",
        "print(a[1])\n",
        "print(type(a[1]))\n",
        "print(a[2:])"
      ],
      "execution_count": null,
      "outputs": [
        {
          "output_type": "stream",
          "name": "stdout",
          "text": [
            "2\n",
            "<class 'int'>\n",
            "(3,)\n"
          ]
        }
      ]
    },
    {
      "cell_type": "code",
      "metadata": {
        "colab": {
          "base_uri": "https://localhost:8080/"
        },
        "id": "-I_BCAIWkP75",
        "outputId": "1d70c482-52bb-4831-93fd-41e4dcb64463"
      },
      "source": [
        "d = (1,2)\n",
        "e = (3, 4, 5)\n",
        "f = d + e\n",
        "print(f)\n",
        "g = e * 3\n",
        "print(g)"
      ],
      "execution_count": null,
      "outputs": [
        {
          "output_type": "stream",
          "name": "stdout",
          "text": [
            "(1, 2, 3, 4, 5)\n",
            "(3, 4, 5, 3, 4, 5, 3, 4, 5)\n"
          ]
        }
      ]
    },
    {
      "cell_type": "code",
      "metadata": {
        "colab": {
          "base_uri": "https://localhost:8080/"
        },
        "id": "8AwlcX3klCSQ",
        "outputId": "1d572d49-696c-415b-dd6e-8e6988249f21"
      },
      "source": [
        "a = [2, 4, 6, 8, 10, 12, 14]\n",
        "b = (1, 2, 3, 4, 5)\n",
        "print(type(a))\n",
        "print(type(b))"
      ],
      "execution_count": null,
      "outputs": [
        {
          "output_type": "stream",
          "name": "stdout",
          "text": [
            "<class 'list'>\n",
            "<class 'tuple'>\n"
          ]
        }
      ]
    },
    {
      "cell_type": "code",
      "metadata": {
        "colab": {
          "base_uri": "https://localhost:8080/"
        },
        "id": "FLnzVxiIlTsR",
        "outputId": "f2712a26-458b-4f16-dce8-e435804b0af8"
      },
      "source": [
        "name, age = ('song', 17)\n",
        "print(name, age)\n",
        "print(type(name))\n",
        "print(type(age))"
      ],
      "execution_count": null,
      "outputs": [
        {
          "output_type": "stream",
          "name": "stdout",
          "text": [
            "song 17\n",
            "<class 'str'>\n",
            "<class 'int'>\n"
          ]
        }
      ]
    },
    {
      "cell_type": "code",
      "metadata": {
        "colab": {
          "base_uri": "https://localhost:8080/"
        },
        "id": "JjrMY_vrlpQZ",
        "outputId": "08734b5a-518c-4cb4-bc2b-60201de38a2c"
      },
      "source": [
        "c = {1,2,3,3,34, 3,3,3,3,3,3,3,3,3,3, 1,2}\n",
        "print(c)\n",
        "print(type(c))\n",
        "c.add(11)\n",
        "print(c)\n",
        "c.remove(34)\n",
        "print(c)\n",
        "c.update({9, 99, 999})\n",
        "print(c)\n",
        "c.clear()\n",
        "print(c)"
      ],
      "execution_count": null,
      "outputs": [
        {
          "output_type": "stream",
          "name": "stdout",
          "text": [
            "{1, 2, 3, 34}\n",
            "<class 'set'>\n",
            "{1, 2, 3, 34, 11}\n",
            "{1, 2, 3, 11}\n",
            "{1, 2, 3, 99, 999, 9, 11}\n",
            "set()\n"
          ]
        }
      ]
    },
    {
      "cell_type": "code",
      "metadata": {
        "colab": {
          "base_uri": "https://localhost:8080/"
        },
        "id": "ykti2bxalyNX",
        "outputId": "66d0c640-c55b-40ed-e08e-3afc9675bfbf"
      },
      "source": [
        "d = [1]\n",
        "e = (1,)\n",
        "f = {1}\n",
        "print(type(d))\n",
        "print(type(e))\n",
        "print(type(f))"
      ],
      "execution_count": null,
      "outputs": [
        {
          "output_type": "stream",
          "name": "stdout",
          "text": [
            "<class 'list'>\n",
            "<class 'tuple'>\n",
            "<class 'set'>\n"
          ]
        }
      ]
    }
  ]
}