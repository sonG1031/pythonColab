{
  "nbformat": 4,
  "nbformat_minor": 0,
  "metadata": {
    "colab": {
      "name": "20210910-2.ipynb",
      "provenance": [],
      "include_colab_link": true
    },
    "kernelspec": {
      "name": "python3",
      "display_name": "Python 3"
    },
    "language_info": {
      "name": "python"
    }
  },
  "cells": [
    {
      "cell_type": "markdown",
      "metadata": {
        "id": "view-in-github",
        "colab_type": "text"
      },
      "source": [
        "<a href=\"https://colab.research.google.com/github/sonG1031/pythonOnline/blob/main/20210910_2.ipynb\" target=\"_parent\"><img src=\"https://colab.research.google.com/assets/colab-badge.svg\" alt=\"Open In Colab\"/></a>"
      ]
    },
    {
      "cell_type": "code",
      "metadata": {
        "colab": {
          "base_uri": "https://localhost:8080/"
        },
        "id": "pcwCGitXJj9d",
        "outputId": "f371d494-8c01-4136-c339-6f7928ba923d"
      },
      "source": [
        "a = [2, 4, 6, 8, 11]\n",
        "print(a)\n",
        "print(a[2])"
      ],
      "execution_count": null,
      "outputs": [
        {
          "output_type": "stream",
          "name": "stdout",
          "text": [
            "[2, 4, 6, 8, 11]\n",
            "6\n"
          ]
        }
      ]
    },
    {
      "cell_type": "code",
      "metadata": {
        "colab": {
          "base_uri": "https://localhost:8080/"
        },
        "id": "xf89U3S4Jupr",
        "outputId": "be891f68-42cc-4a1e-dd6c-9b9b802da388"
      },
      "source": [
        "print(a[2:4])\n",
        "print(a[2:])\n",
        "print(a[:4])"
      ],
      "execution_count": null,
      "outputs": [
        {
          "output_type": "stream",
          "name": "stdout",
          "text": [
            "[6, 8]\n",
            "[6, 8, 11]\n",
            "[2, 4, 6, 8]\n"
          ]
        }
      ]
    },
    {
      "cell_type": "code",
      "metadata": {
        "colab": {
          "base_uri": "https://localhost:8080/"
        },
        "id": "9wIlKlhFKPEb",
        "outputId": "f6113c6a-904f-4e4e-ab49-b97af1374e3d"
      },
      "source": [
        "b = input(\"입력하세영: \")\n",
        "print(b)"
      ],
      "execution_count": null,
      "outputs": [
        {
          "output_type": "stream",
          "name": "stdout",
          "text": [
            "입력하세영: 호옹\n",
            "호옹\n"
          ]
        }
      ]
    },
    {
      "cell_type": "code",
      "metadata": {
        "colab": {
          "base_uri": "https://localhost:8080/"
        },
        "id": "QN4OuwOBKke7",
        "outputId": "279edb28-7ba1-4d8f-8e2c-10ffbfefaa01"
      },
      "source": [
        "b = input(\"숫자를입력하세영: \")\n",
        "# print(type(b))\n",
        "print(int(b)+1)"
      ],
      "execution_count": null,
      "outputs": [
        {
          "output_type": "stream",
          "name": "stdout",
          "text": [
            "숫자를입력하세영: 100\n",
            "101\n"
          ]
        }
      ]
    },
    {
      "cell_type": "code",
      "metadata": {
        "colab": {
          "base_uri": "https://localhost:8080/"
        },
        "id": "VGZn2gsJMHiL",
        "outputId": "dee442ed-4c81-4b3d-a02a-51fed1dbac6a"
      },
      "source": [
        "c = input('오빠 숫자입력해영: ')\n",
        "if int(c) % 2 == 0:\n",
        "  print('오빵^^ 짝수에영')\n",
        "else:\n",
        "  print('오빵^^ 홀수에영')"
      ],
      "execution_count": null,
      "outputs": [
        {
          "output_type": "stream",
          "name": "stdout",
          "text": [
            "오빠 숫자입력해영: 1711\n",
            "오빵^^ 홀수에영\n"
          ]
        }
      ]
    },
    {
      "cell_type": "code",
      "metadata": {
        "colab": {
          "base_uri": "https://localhost:8080/"
        },
        "id": "K7H9eqjGNDcx",
        "outputId": "d2ebf194-0507-4728-d536-510b755d7f24"
      },
      "source": [
        "d = int(input('오빠 숫자입력해영: '))\n",
        "\n",
        "if d > 0:\n",
        "  print('오빵^^ 양수에영')\n",
        "elif d < 0:\n",
        "  print('오빵^^ 음수에영')\n",
        "else:\n",
        "  print('오빵^^ 0 이에영' )"
      ],
      "execution_count": null,
      "outputs": [
        {
          "output_type": "stream",
          "name": "stdout",
          "text": [
            "오빠 숫자입력해영: 0\n",
            "오빵^^ 0 이에영\n"
          ]
        }
      ]
    },
    {
      "cell_type": "code",
      "metadata": {
        "colab": {
          "base_uri": "https://localhost:8080/"
        },
        "id": "nZPDt9owOrSp",
        "outputId": "6654aa21-74b0-42c1-ac85-5661a129a0aa"
      },
      "source": [
        "x,y = 1,2\n",
        "print(x)\n",
        "print(y)"
      ],
      "execution_count": null,
      "outputs": [
        {
          "output_type": "stream",
          "name": "stdout",
          "text": [
            "1\n",
            "2\n"
          ]
        }
      ]
    },
    {
      "cell_type": "code",
      "metadata": {
        "colab": {
          "base_uri": "https://localhost:8080/"
        },
        "id": "mxGEPKK6O70w",
        "outputId": "30c79991-fca1-45aa-9e96-d5c4194abb60"
      },
      "source": [
        "sum1, sum2 = input('더하기 계산기 입니당-> ').split('+')\n",
        "\n",
        "sum1 = int(sum1)\n",
        "sum2 = int(sum2)\n",
        "print(sum1 + sum2)"
      ],
      "execution_count": null,
      "outputs": [
        {
          "output_type": "stream",
          "name": "stdout",
          "text": [
            "더하기 계산기 입니당-> 33+44\n",
            "77\n"
          ]
        }
      ]
    }
  ]
}