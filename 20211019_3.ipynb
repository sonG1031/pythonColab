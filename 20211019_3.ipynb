{
  "nbformat": 4,
  "nbformat_minor": 0,
  "metadata": {
    "colab": {
      "name": "20211019-3.ipynb",
      "provenance": [],
      "authorship_tag": "ABX9TyNERrneT0n+L7F4qdWYwc6N",
      "include_colab_link": true
    },
    "kernelspec": {
      "name": "python3",
      "display_name": "Python 3"
    },
    "language_info": {
      "name": "python"
    }
  },
  "cells": [
    {
      "cell_type": "markdown",
      "metadata": {
        "id": "view-in-github",
        "colab_type": "text"
      },
      "source": [
        "<a href=\"https://colab.research.google.com/github/sonG1031/pythonOnline/blob/main/20211019_3.ipynb\" target=\"_parent\"><img src=\"https://colab.research.google.com/assets/colab-badge.svg\" alt=\"Open In Colab\"/></a>"
      ]
    },
    {
      "cell_type": "code",
      "metadata": {
        "id": "RRs0KayTGZj0"
      },
      "source": [
        "def solution(height, weight):\n",
        "    height_meter = height / 100\n",
        "    bmi = weight / (height_meter * height_meter)\n",
        "\n",
        "    if bmi < 17.8:\n",
        "        return '저체중'\n",
        "    elif bmi < 25.08:\n",
        "        return '정상'\n",
        "    elif bmi < 27.89:\n",
        "        return '과체중'0\n",
        "    else:\n",
        "        return '비만'"
      ],
      "execution_count": null,
      "outputs": []
    },
    {
      "cell_type": "code",
      "metadata": {
        "colab": {
          "base_uri": "https://localhost:8080/"
        },
        "id": "FqrRylCOHaSd",
        "outputId": "777a3a90-6c9e-4e44-f0ac-c09dd2ab6d4c"
      },
      "source": [
        "print(solution(178, 80))"
      ],
      "execution_count": null,
      "outputs": [
        {
          "output_type": "stream",
          "name": "stdout",
          "text": [
            "과체중\n"
          ]
        }
      ]
    }
  ]
}