{
  "nbformat": 4,
  "nbformat_minor": 0,
  "metadata": {
    "colab": {
      "name": "20211026-2.ipynb",
      "provenance": [],
      "collapsed_sections": [],
      "authorship_tag": "ABX9TyP6vXrFpD1vZ7aU5HOaayqU",
      "include_colab_link": true
    },
    "kernelspec": {
      "name": "python3",
      "display_name": "Python 3"
    },
    "language_info": {
      "name": "python"
    }
  },
  "cells": [
    {
      "cell_type": "markdown",
      "metadata": {
        "id": "view-in-github",
        "colab_type": "text"
      },
      "source": [
        "<a href=\"https://colab.research.google.com/github/sonG1031/pythonOnline/blob/main/20211026_2.ipynb\" target=\"_parent\"><img src=\"https://colab.research.google.com/assets/colab-badge.svg\" alt=\"Open In Colab\"/></a>"
      ]
    },
    {
      "cell_type": "code",
      "metadata": {
        "id": "f-N69dF2A0HW"
      },
      "source": [
        "def solution(word):\n",
        "    pivot = len(word) // 2\n",
        "    for i in range(1, pivot+1):\n",
        "        if word[pivot-i] != word[pivot+i]:\n",
        "            return '❌'\n",
        "        else:\n",
        "            return '✔'"
      ],
      "execution_count": null,
      "outputs": []
    },
    {
      "cell_type": "code",
      "metadata": {
        "id": "wl3jyK7_G1mQ"
      },
      "source": [
        "def solution_t(word):\n",
        "    myWord = list(word)\n",
        "    for i in range(0,len(myWord)//2): # 문자의 길이를 2로 나눈 후 몫이 쌍이 서로 같아야하는 수\n",
        "        if myWord[i] == myWord[len(myWord)-1-i]: # 문자의 길이에 인덱스가 되야하므로 1을 뺴주고, i를 뺴주면 같아야하는 쌍의 인덱스이다.\n",
        "            continue\n",
        "        else:\n",
        "            return '응 아니얍!'\n",
        "    return '펠린드롬!'"
      ],
      "execution_count": null,
      "outputs": []
    },
    {
      "cell_type": "code",
      "metadata": {
        "colab": {
          "base_uri": "https://localhost:8080/"
        },
        "id": "_CMOCqSNG_wo",
        "outputId": "106f862f-46bf-4d29-c781-0f82e7a68d40"
      },
      "source": [
        "print(solution_t('abba'))"
      ],
      "execution_count": null,
      "outputs": [
        {
          "output_type": "stream",
          "name": "stdout",
          "text": [
            "펠린드롬!\n"
          ]
        }
      ]
    },
    {
      "cell_type": "code",
      "metadata": {
        "colab": {
          "base_uri": "https://localhost:8080/"
        },
        "id": "2wOGtFvfER0J",
        "outputId": "f59a81dc-ebbf-4392-88f8-1cd8b032f7d3"
      },
      "source": [
        "print(solution('abba'))"
      ],
      "execution_count": null,
      "outputs": [
        {
          "output_type": "stream",
          "name": "stdout",
          "text": [
            "❌\n"
          ]
        }
      ]
    }
  ]
}