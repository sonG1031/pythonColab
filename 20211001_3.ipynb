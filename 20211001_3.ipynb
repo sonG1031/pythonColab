{
  "nbformat": 4,
  "nbformat_minor": 0,
  "metadata": {
    "colab": {
      "name": "20211001-3.ipynb",
      "provenance": [],
      "authorship_tag": "ABX9TyMuhukuob7CaHJ7Y1+FNiiC",
      "include_colab_link": true
    },
    "kernelspec": {
      "name": "python3",
      "display_name": "Python 3"
    },
    "language_info": {
      "name": "python"
    }
  },
  "cells": [
    {
      "cell_type": "markdown",
      "metadata": {
        "id": "view-in-github",
        "colab_type": "text"
      },
      "source": [
        "<a href=\"https://colab.research.google.com/github/sonG1031/pythonOnline/blob/main/20211001_3.ipynb\" target=\"_parent\"><img src=\"https://colab.research.google.com/assets/colab-badge.svg\" alt=\"Open In Colab\"/></a>"
      ]
    },
    {
      "cell_type": "code",
      "metadata": {
        "colab": {
          "base_uri": "https://localhost:8080/"
        },
        "id": "EUozZ0uSkMxJ",
        "outputId": "aaeda46d-c5f5-4a14-ca11-b1e3b1636378"
      },
      "source": [
        "a = {1,2,3}\n",
        "print(a)\n",
        "a.add(7)\n",
        "print(a)\n",
        "a.add(1)\n",
        "print(len(a))"
      ],
      "execution_count": null,
      "outputs": [
        {
          "output_type": "stream",
          "name": "stdout",
          "text": [
            "{1, 2, 3}\n",
            "{1, 2, 3, 7}\n",
            "4\n"
          ]
        }
      ]
    },
    {
      "cell_type": "code",
      "metadata": {
        "colab": {
          "base_uri": "https://localhost:8080/"
        },
        "id": "9SqYdheGk9dE",
        "outputId": "39834e9a-e085-430b-e461-eb6c15f2e34d"
      },
      "source": [
        "import random\n",
        "\n",
        "lotto = set()\n",
        "# print(type(lotto))\n",
        "\n",
        "count = 0\n",
        "\n",
        "while len(lotto) < 6:\n",
        "  lotto.add(random.randrange(1,46))\n",
        "  count += 1\n",
        "\n",
        "print(count)\n",
        "print(lotto)"
      ],
      "execution_count": null,
      "outputs": [
        {
          "output_type": "stream",
          "name": "stdout",
          "text": [
            "6\n",
            "{1, 38, 7, 41, 11, 22}\n"
          ]
        }
      ]
    }
  ]
}