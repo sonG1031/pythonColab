{
  "nbformat": 4,
  "nbformat_minor": 0,
  "metadata": {
    "colab": {
      "name": "20210917-2.ipynb",
      "provenance": [],
      "include_colab_link": true
    },
    "kernelspec": {
      "name": "python3",
      "display_name": "Python 3"
    },
    "language_info": {
      "name": "python"
    }
  },
  "cells": [
    {
      "cell_type": "markdown",
      "metadata": {
        "id": "view-in-github",
        "colab_type": "text"
      },
      "source": [
        "<a href=\"https://colab.research.google.com/github/sonG1031/pythonOnline/blob/main/20210917_2.ipynb\" target=\"_parent\"><img src=\"https://colab.research.google.com/assets/colab-badge.svg\" alt=\"Open In Colab\"/></a>"
      ]
    },
    {
      "cell_type": "code",
      "metadata": {
        "colab": {
          "base_uri": "https://localhost:8080/"
        },
        "id": "lQzn-1NtQfVR",
        "outputId": "ca17afd3-0fcd-4d96-97dd-77f1db5b6ced"
      },
      "source": [
        "def addcalc(x, y):\n",
        "  return x + y\n",
        "\n",
        "# result = addcalc(5, 7)\n",
        "# print(result)\n",
        "\n",
        "a, b = input('값을 두개 입력하세영: ').split('+')\n",
        "\n",
        "result = addcalc(int(a), int(b))\n",
        "print(result)"
      ],
      "execution_count": null,
      "outputs": [
        {
          "output_type": "stream",
          "name": "stdout",
          "text": [
            "값을 두개 입력하세영: 9 + 7\n",
            "16\n"
          ]
        }
      ]
    },
    {
      "cell_type": "code",
      "metadata": {
        "colab": {
          "base_uri": "https://localhost:8080/"
        },
        "id": "C0D7Ia3CSO1j",
        "outputId": "4f3f6b8d-6f85-41f4-f7d8-d98541b2011e"
      },
      "source": [
        "def minuscalc(x, y):\n",
        "  return x - y\n",
        "\n",
        "a, b = input('값을 두개 입력하세영: ').split('-')\n",
        "result = minuscalc(int(a), int(b))\n",
        "print(result)"
      ],
      "execution_count": null,
      "outputs": [
        {
          "output_type": "stream",
          "name": "stdout",
          "text": [
            "값을 두개 입력하세영: 7 - 9\n",
            "-2\n"
          ]
        }
      ]
    },
    {
      "cell_type": "code",
      "metadata": {
        "colab": {
          "base_uri": "https://localhost:8080/"
        },
        "id": "HJjnuFZNTV9O",
        "outputId": "8b2a71e6-f0fa-45ae-e947-dbf2f3b58a2a"
      },
      "source": [
        "def age(a):\n",
        "  if a < 20:\n",
        "    print('미성년자')\n",
        "  else:\n",
        "    print('성인')\n",
        "\n",
        "b = input('나이를 입력하세용^^ ')\n",
        "age(int(b))\n"
      ],
      "execution_count": null,
      "outputs": [
        {
          "output_type": "stream",
          "name": "stdout",
          "text": [
            "나이를 입력하세용^^ 30\n",
            "성인\n"
          ]
        }
      ]
    }
  ]
}