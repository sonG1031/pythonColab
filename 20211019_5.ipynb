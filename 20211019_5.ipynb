{
  "nbformat": 4,
  "nbformat_minor": 0,
  "metadata": {
    "colab": {
      "name": "20211019-5.ipynb",
      "provenance": [],
      "authorship_tag": "ABX9TyNNIZJRJMSzS5u3piCbanjF",
      "include_colab_link": true
    },
    "kernelspec": {
      "name": "python3",
      "display_name": "Python 3"
    },
    "language_info": {
      "name": "python"
    }
  },
  "cells": [
    {
      "cell_type": "markdown",
      "metadata": {
        "id": "view-in-github",
        "colab_type": "text"
      },
      "source": [
        "<a href=\"https://colab.research.google.com/github/sonG1031/pythonOnline/blob/main/20211019_5.ipynb\" target=\"_parent\"><img src=\"https://colab.research.google.com/assets/colab-badge.svg\" alt=\"Open In Colab\"/></a>"
      ]
    },
    {
      "cell_type": "code",
      "metadata": {
        "id": "yMflhrIHUyfd"
      },
      "source": [
        "def solution(result):\n",
        "    str = result.lower()\n",
        "    cnt = 0\n",
        "    for i in str:\n",
        "        if i == 'a' or i == 'i' or i == 'e' or i == 'o' or i == 'u':\n",
        "            cnt += 1\n",
        "    return cnt "
      ],
      "execution_count": null,
      "outputs": []
    },
    {
      "cell_type": "code",
      "metadata": {
        "colab": {
          "base_uri": "https://localhost:8080/"
        },
        "id": "_GyUBst9Vnnz",
        "outputId": "d533e67a-7b47-418f-e0c7-9c8a2e73c2f0"
      },
      "source": [
        "print(solution('I Love you'))\n",
        "print(solution('AEI'))"
      ],
      "execution_count": null,
      "outputs": [
        {
          "output_type": "stream",
          "name": "stdout",
          "text": [
            "i love you\n",
            "5\n",
            "aei\n",
            "3\n"
          ]
        }
      ]
    }
  ]
}