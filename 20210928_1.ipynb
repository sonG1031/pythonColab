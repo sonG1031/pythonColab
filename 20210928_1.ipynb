{
  "nbformat": 4,
  "nbformat_minor": 0,
  "metadata": {
    "colab": {
      "name": "20210928-1.ipynb",
      "provenance": [],
      "authorship_tag": "ABX9TyOwi44G47Nz4QyFwysAlw7Y",
      "include_colab_link": true
    },
    "kernelspec": {
      "name": "python3",
      "display_name": "Python 3"
    },
    "language_info": {
      "name": "python"
    }
  },
  "cells": [
    {
      "cell_type": "markdown",
      "metadata": {
        "id": "view-in-github",
        "colab_type": "text"
      },
      "source": [
        "<a href=\"https://colab.research.google.com/github/sonG1031/pythonOnline/blob/main/20210928_1.ipynb\" target=\"_parent\"><img src=\"https://colab.research.google.com/assets/colab-badge.svg\" alt=\"Open In Colab\"/></a>"
      ]
    },
    {
      "cell_type": "code",
      "metadata": {
        "colab": {
          "base_uri": "https://localhost:8080/"
        },
        "id": "zXqWuLQ2vSu2",
        "outputId": "6c638d18-4b0c-4f1c-dec7-ae2064e83513"
      },
      "source": [
        "# num의 약수를 출력\n",
        "num = 10\n",
        "for i in range(1, 11):\n",
        "  if num % i == 0:\n",
        "    print(i, end=\" \")"
      ],
      "execution_count": null,
      "outputs": [
        {
          "output_type": "stream",
          "name": "stdout",
          "text": [
            "1 2 5 10 "
          ]
        }
      ]
    },
    {
      "cell_type": "code",
      "metadata": {
        "colab": {
          "base_uri": "https://localhost:8080/"
        },
        "id": "x43JP66M5DWS",
        "outputId": "87749453-d7f9-406b-b882-e3175c361ab6"
      },
      "source": [
        "num = 100\n",
        "for i in range(1, num+1):\n",
        "  if num % i == 0:\n",
        "    print(i, end=\" \")"
      ],
      "execution_count": null,
      "outputs": [
        {
          "output_type": "stream",
          "name": "stdout",
          "text": [
            "1 2 4 5 10 20 25 50 100 "
          ]
        }
      ]
    },
    {
      "cell_type": "code",
      "metadata": {
        "colab": {
          "base_uri": "https://localhost:8080/"
        },
        "id": "OZ-duBw95aip",
        "outputId": "c464b056-5187-4ff2-8069-fd5e5264c333"
      },
      "source": [
        "num = int(input('값을 입력하세영: '))\n",
        "for i in range(1, num+1):\n",
        "  if num % i == 0:\n",
        "    print(i, end=\" \")"
      ],
      "execution_count": null,
      "outputs": [
        {
          "output_type": "stream",
          "name": "stdout",
          "text": [
            "값을 입력하세영: 18\n",
            "1 2 3 6 9 18 "
          ]
        }
      ]
    },
    {
      "cell_type": "code",
      "metadata": {
        "colab": {
          "base_uri": "https://localhost:8080/"
        },
        "id": "4OgfXr786Klp",
        "outputId": "79c1748d-4b19-46df-a425-865421f4f603"
      },
      "source": [
        "# num의 약수의 개수를 출력\n",
        "num = 10\n",
        "count = 0\n",
        "\n",
        "for i in range(1, 11):\n",
        "  if num % i == 0:\n",
        "    count += 1\n",
        "\n",
        "print(count)"
      ],
      "execution_count": null,
      "outputs": [
        {
          "output_type": "stream",
          "name": "stdout",
          "text": [
            "4\n"
          ]
        }
      ]
    },
    {
      "cell_type": "code",
      "metadata": {
        "colab": {
          "base_uri": "https://localhost:8080/"
        },
        "id": "IbgicO_n6yaz",
        "outputId": "6364bf74-0974-4a1f-bc2b-7820764d9267"
      },
      "source": [
        "num = int(input('값을 입력하세영: '))\n",
        "count = 0\n",
        "\n",
        "for i in range(1, num+1):\n",
        "  if num % i == 0:\n",
        "    count += 1\n",
        "\n",
        "print('입력하신 {0}의 약수의 개수는 {1}개 입니당.'.format(num, count))"
      ],
      "execution_count": null,
      "outputs": [
        {
          "output_type": "stream",
          "name": "stdout",
          "text": [
            "값을 입력하세영: 42768\n",
            "입력하신 42768의 약수의 개수는 60개 입니당.\n"
          ]
        }
      ]
    },
    {
      "cell_type": "code",
      "metadata": {
        "colab": {
          "base_uri": "https://localhost:8080/"
        },
        "id": "r986SptL7tdr",
        "outputId": "529f77a8-cd1e-412c-d1cc-0e9b6b3a6bbb"
      },
      "source": [
        "# 소수의 성질: 1과 자신만을 약수로 가짐\n",
        "# 소수의 성질을 이용하여 num이 소수인지 판별함\n",
        "num = int(input('값을 입력하세영: '))\n",
        "count = 0\n",
        "\n",
        "for i in range(1, num+1):\n",
        "  if num % i == 0:\n",
        "    count += 1\n",
        "\n",
        "if count == 2:\n",
        "  print('소수입니당')\n",
        "else:\n",
        "  print('소수 아니에영 ㅄ앙')"
      ],
      "execution_count": null,
      "outputs": [
        {
          "output_type": "stream",
          "name": "stdout",
          "text": [
            "값을 입력하세영: 10\n",
            "소수 아니에영 ㅄ앙\n"
          ]
        }
      ]
    }
  ]
}