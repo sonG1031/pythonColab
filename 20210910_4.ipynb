{
  "nbformat": 4,
  "nbformat_minor": 0,
  "metadata": {
    "colab": {
      "name": "20210910-4.ipynb",
      "provenance": [],
      "include_colab_link": true
    },
    "kernelspec": {
      "name": "python3",
      "display_name": "Python 3"
    },
    "language_info": {
      "name": "python"
    }
  },
  "cells": [
    {
      "cell_type": "markdown",
      "metadata": {
        "id": "view-in-github",
        "colab_type": "text"
      },
      "source": [
        "<a href=\"https://colab.research.google.com/github/sonG1031/pythonOnline/blob/main/20210910_4.ipynb\" target=\"_parent\"><img src=\"https://colab.research.google.com/assets/colab-badge.svg\" alt=\"Open In Colab\"/></a>"
      ]
    },
    {
      "cell_type": "code",
      "metadata": {
        "colab": {
          "base_uri": "https://localhost:8080/"
        },
        "id": "0ZuEYPQAcHCn",
        "outputId": "3ffa5fb3-364d-4f24-ae2f-155294dc661f"
      },
      "source": [
        "name = input('이름: ')\n",
        "age = int(input('나이: '))\n",
        "sex = input('성별: ')\n",
        "\n",
        "if age < 20:\n",
        "  print('{0}({1}) 미성년자 입니다.'.format(name, sex))\n",
        "else:\n",
        "  print('{0}({1}) 성인 입니다.'.format(name, sex))"
      ],
      "execution_count": null,
      "outputs": [
        {
          "output_type": "stream",
          "name": "stdout",
          "text": [
            "이름: 송민섭\n",
            "나이: 17\n",
            "성별: 남\n",
            "송민섭(남) 미성년자 입니다.\n"
          ]
        }
      ]
    }
  ]
}