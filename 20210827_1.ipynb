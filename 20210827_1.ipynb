{
  "nbformat": 4,
  "nbformat_minor": 0,
  "metadata": {
    "colab": {
      "name": "20210827-1.ipynb",
      "provenance": [],
      "collapsed_sections": [],
      "include_colab_link": true
    },
    "kernelspec": {
      "name": "python3",
      "display_name": "Python 3"
    },
    "language_info": {
      "name": "python"
    }
  },
  "cells": [
    {
      "cell_type": "markdown",
      "metadata": {
        "id": "view-in-github",
        "colab_type": "text"
      },
      "source": [
        "<a href=\"https://colab.research.google.com/github/sonG1031/pythonOnline/blob/main/20210827_1.ipynb\" target=\"_parent\"><img src=\"https://colab.research.google.com/assets/colab-badge.svg\" alt=\"Open In Colab\"/></a>"
      ]
    },
    {
      "cell_type": "code",
      "metadata": {
        "colab": {
          "base_uri": "https://localhost:8080/"
        },
        "id": "HZlmridH4ejD",
        "outputId": "db296f2e-d211-460e-eb4a-5e1aafee7ca8"
      },
      "source": [
        "print('hi')"
      ],
      "execution_count": null,
      "outputs": [
        {
          "output_type": "stream",
          "text": [
            "hi\n"
          ],
          "name": "stdout"
        }
      ]
    },
    {
      "cell_type": "code",
      "metadata": {
        "colab": {
          "base_uri": "https://localhost:8080/"
        },
        "id": "kprLZtpI5WgS",
        "outputId": "e8969105-19d3-4e40-d1de-9162db1f3f1e"
      },
      "source": [
        "print('1')\n",
        "print('2')\n",
        "print('3')\n",
        "print('4')\n",
        "print('5')"
      ],
      "execution_count": null,
      "outputs": [
        {
          "output_type": "stream",
          "text": [
            "1\n",
            "2\n",
            "3\n",
            "4\n",
            "5\n"
          ],
          "name": "stdout"
        }
      ]
    },
    {
      "cell_type": "code",
      "metadata": {
        "colab": {
          "base_uri": "https://localhost:8080/"
        },
        "id": "j_DRUy5h6KDK",
        "outputId": "3c52704e-83bd-4059-fc4c-207313418744"
      },
      "source": [
        "print('no sana no life')\n",
        "print('no sana no life')\n",
        "print('no sana no life')\n",
        "print('no sana no life')\n",
        "print('no sana no life')"
      ],
      "execution_count": null,
      "outputs": [
        {
          "output_type": "stream",
          "text": [
            "no sana no life\n",
            "no sana no life\n",
            "no sana no life\n",
            "no sana no life\n",
            "no sana no life\n"
          ],
          "name": "stdout"
        }
      ]
    },
    {
      "cell_type": "code",
      "metadata": {
        "colab": {
          "base_uri": "https://localhost:8080/"
        },
        "id": "01WnF8V57C3B",
        "outputId": "3e6a34b8-ec9a-4a2b-fcc5-a04fef226146"
      },
      "source": [
        "for i in range(10):\n",
        "  print('no sana no life')"
      ],
      "execution_count": null,
      "outputs": [
        {
          "output_type": "stream",
          "text": [
            "no sana no life\n",
            "no sana no life\n",
            "no sana no life\n",
            "no sana no life\n",
            "no sana no life\n",
            "no sana no life\n",
            "no sana no life\n",
            "no sana no life\n",
            "no sana no life\n",
            "no sana no life\n"
          ],
          "name": "stdout"
        }
      ]
    },
    {
      "cell_type": "code",
      "metadata": {
        "colab": {
          "base_uri": "https://localhost:8080/"
        },
        "id": "lPCoKX8f7ucJ",
        "outputId": "913b8187-574a-4903-fd27-8e431224e08e"
      },
      "source": [
        "for _ in range(5):\n",
        "  print('nayeon is sexy')"
      ],
      "execution_count": null,
      "outputs": [
        {
          "output_type": "stream",
          "text": [
            "nayeon is sexy\n",
            "nayeon is sexy\n",
            "nayeon is sexy\n",
            "nayeon is sexy\n",
            "nayeon is sexy\n"
          ],
          "name": "stdout"
        }
      ]
    },
    {
      "cell_type": "code",
      "metadata": {
        "colab": {
          "base_uri": "https://localhost:8080/"
        },
        "id": "_Q3kUwW78kMR",
        "outputId": "2ef2fd81-42e7-4fde-e21a-eac0ff3b4718"
      },
      "source": [
        "for _ in range(5):\n",
        "  print('aaa')\n",
        "  print('bbb')"
      ],
      "execution_count": null,
      "outputs": [
        {
          "output_type": "stream",
          "text": [
            "aaa\n",
            "bbb\n",
            "aaa\n",
            "bbb\n",
            "aaa\n",
            "bbb\n",
            "aaa\n",
            "bbb\n",
            "aaa\n",
            "bbb\n"
          ],
          "name": "stdout"
        }
      ]
    },
    {
      "cell_type": "code",
      "metadata": {
        "colab": {
          "base_uri": "https://localhost:8080/"
        },
        "id": "IU5HlfVZ9JDJ",
        "outputId": "c67beb57-209e-42fc-9ff1-b0ae4c211920"
      },
      "source": [
        "for i in range(10):\n",
        "  print(i, end='@')"
      ],
      "execution_count": null,
      "outputs": [
        {
          "output_type": "stream",
          "text": [
            "0@1@2@3@4@5@6@7@8@9@"
          ],
          "name": "stdout"
        }
      ]
    },
    {
      "cell_type": "code",
      "metadata": {
        "colab": {
          "base_uri": "https://localhost:8080/"
        },
        "id": "sZoJOjBt9zdf",
        "outputId": "5bf2f2b0-1754-463b-cec3-13d539bd6f59"
      },
      "source": [
        "for i in range(0, 10):\n",
        "  print(i, end=' ')"
      ],
      "execution_count": null,
      "outputs": [
        {
          "output_type": "stream",
          "text": [
            "0 1 2 3 4 5 6 7 8 9 "
          ],
          "name": "stdout"
        }
      ]
    },
    {
      "cell_type": "code",
      "metadata": {
        "colab": {
          "base_uri": "https://localhost:8080/"
        },
        "id": "ddVxZHlD-Oj3",
        "outputId": "7bb744c2-41af-4fa3-a39c-87c0ccb8b9ef"
      },
      "source": [
        "for i in range(103, 108):\n",
        "  print(i, end= '&')"
      ],
      "execution_count": null,
      "outputs": [
        {
          "output_type": "stream",
          "text": [
            "103&104&105&106&107&"
          ],
          "name": "stdout"
        }
      ]
    },
    {
      "cell_type": "code",
      "metadata": {
        "colab": {
          "base_uri": "https://localhost:8080/"
        },
        "id": "EwX7YCsSFDMm",
        "outputId": "947b4aca-cc0a-4e75-d269-30cbc12c3bef"
      },
      "source": [
        "for i in range(0,20,2):\n",
        "  print(i, end=' ')"
      ],
      "execution_count": null,
      "outputs": [
        {
          "output_type": "stream",
          "text": [
            "0 2 4 6 8 10 12 14 16 18 "
          ],
          "name": "stdout"
        }
      ]
    },
    {
      "cell_type": "code",
      "metadata": {
        "colab": {
          "base_uri": "https://localhost:8080/"
        },
        "id": "_M7SXxpfFfCt",
        "outputId": "c67167c2-be8c-4cf3-ffb6-f6b2b2720175"
      },
      "source": [
        "for i in range(48, 104, 3):\n",
        "  print(i, end=' ')"
      ],
      "execution_count": null,
      "outputs": [
        {
          "output_type": "stream",
          "text": [
            "48 51 54 57 60 63 66 69 72 75 78 81 84 87 90 93 96 99 102 "
          ],
          "name": "stdout"
        }
      ]
    },
    {
      "cell_type": "code",
      "metadata": {
        "colab": {
          "base_uri": "https://localhost:8080/"
        },
        "id": "ihaBzBGdF1ad",
        "outputId": "2dc718b6-fbea-41dd-cdd5-de9f5cff75f4"
      },
      "source": [
        "for i in range(50, 101):\n",
        "  print(i, end=\" \")"
      ],
      "execution_count": null,
      "outputs": [
        {
          "output_type": "stream",
          "text": [
            "50 51 52 53 54 55 56 57 58 59 60 61 62 63 64 65 66 67 68 69 70 71 72 73 74 75 76 77 78 79 80 81 82 83 84 85 86 87 88 89 90 91 92 93 94 95 96 97 98 99 100 "
          ],
          "name": "stdout"
        }
      ]
    },
    {
      "cell_type": "code",
      "metadata": {
        "colab": {
          "base_uri": "https://localhost:8080/"
        },
        "id": "5fuAVY8eIEml",
        "outputId": "daf6ff51-473f-4a24-e096-5552ecfb0d12"
      },
      "source": [
        "a = 101\n",
        "b = 72\n",
        "print(a%b)"
      ],
      "execution_count": null,
      "outputs": [
        {
          "output_type": "stream",
          "text": [
            "29\n"
          ],
          "name": "stdout"
        }
      ]
    },
    {
      "cell_type": "code",
      "metadata": {
        "colab": {
          "base_uri": "https://localhost:8080/"
        },
        "id": "sVkljur9IbX0",
        "outputId": "46cb3564-99d2-448f-a0a1-a6c7ed7efc95"
      },
      "source": [
        "a = 31\n",
        "\n",
        "if a % 2 == 0:\n",
        "  print(\"짝수\")\n",
        "elif a % 2 == 1:\n",
        "  print(\"홀수\")"
      ],
      "execution_count": null,
      "outputs": [
        {
          "output_type": "stream",
          "text": [
            "홀수\n"
          ],
          "name": "stdout"
        }
      ]
    },
    {
      "cell_type": "code",
      "metadata": {
        "colab": {
          "base_uri": "https://localhost:8080/"
        },
        "id": "v5Vn6w2QJWk2",
        "outputId": "f2594a06-c598-4dc7-c30e-9dd978571c9c"
      },
      "source": [
        "print(1+1)\n",
        "print(1==1)\n",
        "print(1==2)"
      ],
      "execution_count": null,
      "outputs": [
        {
          "output_type": "stream",
          "text": [
            "2\n",
            "True\n",
            "False\n"
          ],
          "name": "stdout"
        }
      ]
    },
    {
      "cell_type": "code",
      "metadata": {
        "colab": {
          "base_uri": "https://localhost:8080/"
        },
        "id": "qdPO9tP6PzAT",
        "outputId": "7087dfb7-782d-4436-b154-33c6480ea8e6"
      },
      "source": [
        "for i in range(1000, 2001):\n",
        "  if i % 11 == 0:\n",
        "    print(i, end=' ')"
      ],
      "execution_count": null,
      "outputs": [
        {
          "output_type": "stream",
          "text": [
            "1001 1012 1023 1034 1045 1056 1067 1078 1089 1100 1111 1122 1133 1144 1155 1166 1177 1188 1199 1210 1221 1232 1243 1254 1265 1276 1287 1298 1309 1320 1331 1342 1353 1364 1375 1386 1397 1408 1419 1430 1441 1452 1463 1474 1485 1496 1507 1518 1529 1540 1551 1562 1573 1584 1595 1606 1617 1628 1639 1650 1661 1672 1683 1694 1705 1716 1727 1738 1749 1760 1771 1782 1793 1804 1815 1826 1837 1848 1859 1870 1881 1892 1903 1914 1925 1936 1947 1958 1969 1980 1991 "
          ],
          "name": "stdout"
        }
      ]
    },
    {
      "cell_type": "code",
      "metadata": {
        "colab": {
          "base_uri": "https://localhost:8080/"
        },
        "id": "nAPtGwPXWsaw",
        "outputId": "cc7bf61b-6f0b-44c4-ed21-3e51390f14c0"
      },
      "source": [
        "# 369게임\n",
        "for i in range(1, 101):\n",
        "    str_i = str(i)\n",
        "    count = 0\n",
        "    for j in str_i:\n",
        "        if (j == '3') or (j == '6') or (j == '9'):\n",
        "            count += 1\n",
        "    if count == 0:\n",
        "        print(i, end=\" \")\n",
        "    else:\n",
        "        print(count * '*', end=\" \")"
      ],
      "execution_count": null,
      "outputs": [
        {
          "output_type": "stream",
          "text": [
            "1 2 * 4 5 * 7 8 * 10 11 12 * 14 15 * 17 18 * 20 21 22 * 24 25 * 27 28 * * * * ** * * ** * * ** 40 41 42 * 44 45 * 47 48 * 50 51 52 * 54 55 * 57 58 * * * * ** * * ** * * ** 70 71 72 * 74 75 * 77 78 * 80 81 82 * 84 85 * 87 88 * * * * ** * * ** * * ** 100 "
          ],
          "name": "stdout"
        }
      ]
    },
    {
      "cell_type": "code",
      "metadata": {
        "id": "ZgNz8FK6P9oQ",
        "colab": {
          "base_uri": "https://localhost:8080/"
        },
        "outputId": "1e205fb9-badb-4531-95f3-ba21d8924857"
      },
      "source": [
        " str = \"01\"\n",
        " print(str[0])"
      ],
      "execution_count": null,
      "outputs": [
        {
          "output_type": "stream",
          "text": [
            "0\n"
          ],
          "name": "stdout"
        }
      ]
    }
  ]
}