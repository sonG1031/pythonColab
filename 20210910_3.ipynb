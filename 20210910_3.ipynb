{
  "nbformat": 4,
  "nbformat_minor": 0,
  "metadata": {
    "colab": {
      "name": "20210910-3.ipynb",
      "provenance": [],
      "include_colab_link": true
    },
    "kernelspec": {
      "name": "python3",
      "display_name": "Python 3"
    },
    "language_info": {
      "name": "python"
    }
  },
  "cells": [
    {
      "cell_type": "markdown",
      "metadata": {
        "id": "view-in-github",
        "colab_type": "text"
      },
      "source": [
        "<a href=\"https://colab.research.google.com/github/sonG1031/pythonOnline/blob/main/20210910_3.ipynb\" target=\"_parent\"><img src=\"https://colab.research.google.com/assets/colab-badge.svg\" alt=\"Open In Colab\"/></a>"
      ]
    },
    {
      "cell_type": "code",
      "metadata": {
        "colab": {
          "base_uri": "https://localhost:8080/"
        },
        "id": "-K5xWE-bWluu",
        "outputId": "fd9f5bf7-908f-49f3-e7c9-c9783ce53eb7"
      },
      "source": [
        "print('***')"
      ],
      "execution_count": null,
      "outputs": [
        {
          "output_type": "stream",
          "name": "stdout",
          "text": [
            "***\n"
          ]
        }
      ]
    },
    {
      "cell_type": "code",
      "metadata": {
        "colab": {
          "base_uri": "https://localhost:8080/"
        },
        "id": "MAQacGf4XYp1",
        "outputId": "df404d1b-1da7-4c15-8a3b-03eda46040ba"
      },
      "source": [
        "print('********************')\n",
        "print('*                  *')\n",
        "print('*    안녕하세요    *')\n",
        "print('*                  *')\n",
        "print('********************')"
      ],
      "execution_count": null,
      "outputs": [
        {
          "output_type": "stream",
          "name": "stdout",
          "text": [
            "********************\n",
            "*                  *\n",
            "*    안녕하세요    *\n",
            "*                  *\n",
            "********************\n"
          ]
        }
      ]
    },
    {
      "cell_type": "code",
      "metadata": {
        "colab": {
          "base_uri": "https://localhost:8080/"
        },
        "id": "R6Xodd6OYjyM",
        "outputId": "ae1b7d7b-f440-4407-9965-d84c530476c4"
      },
      "source": [
        "print('*' * 20)"
      ],
      "execution_count": null,
      "outputs": [
        {
          "output_type": "stream",
          "name": "stdout",
          "text": [
            "********************\n"
          ]
        }
      ]
    },
    {
      "cell_type": "code",
      "metadata": {
        "colab": {
          "base_uri": "https://localhost:8080/"
        },
        "id": "VcFboWDbYqeD",
        "outputId": "5f850241-17f0-452b-d999-cdd2f2b7b174"
      },
      "source": [
        "print('안녕하세요. 저는 {0}입니당'.format('송민섭'))"
      ],
      "execution_count": null,
      "outputs": [
        {
          "output_type": "stream",
          "name": "stdout",
          "text": [
            "안녕하세요. 저는 송민섭입니당\n"
          ]
        }
      ]
    },
    {
      "cell_type": "code",
      "metadata": {
        "colab": {
          "base_uri": "https://localhost:8080/"
        },
        "id": "I4V5SwSFZWIs",
        "outputId": "1b52d8d8-b672-406d-ab6d-a26f236d84e0"
      },
      "source": [
        "print('안녕하세요. 저는 {0}이고 나이는 {1}살 입니당'.format('송민섭', 17))"
      ],
      "execution_count": null,
      "outputs": [
        {
          "output_type": "stream",
          "name": "stdout",
          "text": [
            "안녕하세요. 저는 송민섭이고 나이는 17살 입니당\n"
          ]
        }
      ]
    },
    {
      "cell_type": "code",
      "metadata": {
        "colab": {
          "base_uri": "https://localhost:8080/"
        },
        "id": "QLwca4tbaKlC",
        "outputId": "82b4bd4a-accc-4091-c8f0-89b3ecb4f6a7"
      },
      "source": [
        "name = input('이름: ')\n",
        "age = int(input('나이: '))\n",
        "print('{0}({1})'.format(name, age))"
      ],
      "execution_count": null,
      "outputs": [
        {
          "output_type": "stream",
          "name": "stdout",
          "text": [
            "이름: 송민섭\n",
            "나이: 17\n",
            "송민섭(17)\n"
          ]
        }
      ]
    }
  ]
}